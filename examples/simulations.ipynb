{
 "metadata": {
  "name": "",
  "signature": "sha256:0fb52bce026062941efb133256282c092b4881e5201fd625e263f2c8721bd63c"
 },
 "nbformat": 3,
 "nbformat_minor": 0,
 "worksheets": [
  {
   "cells": [
    {
     "cell_type": "heading",
     "level": 3,
     "metadata": {},
     "source": [
      "Setup"
     ]
    },
    {
     "cell_type": "code",
     "collapsed": false,
     "input": [
      "import sys\n",
      "sys.path.append('C:\\Users\\u0098668\\Documents\\Modelica\\ModelicaRes')"
     ],
     "language": "python",
     "metadata": {},
     "outputs": [],
     "prompt_number": 1
    },
    {
     "cell_type": "code",
     "collapsed": false,
     "input": [
      "from modelicares.exps.simulators import dymosim, fmi\n",
      "from modelicares import SimResList, SimResSequence\n",
      "%matplotlib inline"
     ],
     "language": "python",
     "metadata": {},
     "outputs": [],
     "prompt_number": 2
    },
    {
     "cell_type": "code",
     "collapsed": false,
     "input": [
      "L = [100, 50, 20, 15, 10] # Inductances"
     ],
     "language": "python",
     "metadata": {},
     "outputs": [],
     "prompt_number": 3
    },
    {
     "cell_type": "heading",
     "level": 3,
     "metadata": {},
     "source": [
      "Dymosim"
     ]
    },
    {
     "cell_type": "code",
     "collapsed": false,
     "input": [
      "with dymosim(results_dir='ChuaCircuit/results') as simulator:\n",
      "    simulator.run('ChuaCircuit/dymosim', StopTime=1)\n",
      "    for l in L:   \n",
      "        simulator.continue_run(1, {'L.L': l})"
     ],
     "language": "python",
     "metadata": {},
     "outputs": [],
     "prompt_number": 8
    },
    {
     "cell_type": "heading",
     "level": 3,
     "metadata": {},
     "source": [
      "FMI"
     ]
    },
    {
     "cell_type": "code",
     "collapsed": false,
     "input": [
      "with fmi(results_dir='ChuaCircuit/results-fmu', result_handling='memory') as simulator:\n",
      "    simulator.run('ChuaCircuit/CS-2.0-CVode.fmu', StopTime=1)\n",
      "    #simulator.run('ChuaCircuit/ChuaCircuit.fmu', StopTime=1)\n",
      "    for l in L:   \n",
      "        simulator.continue_run(1, {'L.L': l})\n",
      "    simulator.move_mat_file()"
     ],
     "language": "python",
     "metadata": {},
     "outputs": [
      {
       "output_type": "stream",
       "stream": "stdout",
       "text": [
        "Simulation interval    : 0.0 - 1 seconds.\n",
        "Elapsed simulation time: 0.0867275423657 seconds.\n",
        "Simulation interval    : 1.0 - 2.0 seconds."
       ]
      },
      {
       "output_type": "stream",
       "stream": "stdout",
       "text": [
        "\n",
        "Elapsed simulation time: 0.0838203349782 seconds.\n",
        "Simulation interval    : 2.0 - 3.0 seconds."
       ]
      },
      {
       "output_type": "stream",
       "stream": "stdout",
       "text": [
        "\n",
        "Elapsed simulation time: 0.0777134231666 seconds.\n",
        "Simulation interval    : 3.0 - 4.0 seconds."
       ]
      },
      {
       "output_type": "stream",
       "stream": "stdout",
       "text": [
        "\n",
        "Elapsed simulation time: 0.0785822301537 seconds.\n",
        "Simulation interval    : 4.0 - 5.0 seconds."
       ]
      },
      {
       "output_type": "stream",
       "stream": "stdout",
       "text": [
        "\n",
        "Elapsed simulation time: 0.0763883050132 seconds.\n",
        "Simulation interval    : 5.0 - 6.0 seconds."
       ]
      },
      {
       "output_type": "stream",
       "stream": "stdout",
       "text": [
        "\n",
        "Elapsed simulation time: 0.0847088786074 seconds.\n"
       ]
      }
     ],
     "prompt_number": 6
    },
    {
     "cell_type": "heading",
     "level": 3,
     "metadata": {},
     "source": [
      "Comparison"
     ]
    },
    {
     "cell_type": "code",
     "collapsed": false,
     "input": [
      "sequences = SimResList([SimResSequence('ChuaCircuit/results/1/dsres*'), \n",
      "                        SimResSequence('ChuaCircuit/results-fmu/1/dsres*')])\n",
      "sequences.label = [\"Dymosim\", \"FMI\"]\n",
      "sequences.plot('L.i', title=\"Effect of varying inductance during simulation,\\nevaluated using Dymosim and FMI\");"
     ],
     "language": "python",
     "metadata": {},
     "outputs": [
      {
       "metadata": {},
       "output_type": "display_data",
       "png": "[encoded data removed]",
       "text": [
        "<matplotlib.figure.Figure at 0x921b0b0>"
       ]
      }
     ],
     "prompt_number": 10
    }
   ],
   "metadata": {}
  }
 ]
}