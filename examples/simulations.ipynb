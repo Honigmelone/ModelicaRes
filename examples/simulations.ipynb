{
 "metadata": {
  "name": "",
  "signature": "sha256:e83fc03b99a1104a0bd10f443fa1ada60f5ce21dc343bb16a58c2ff7df1c591e"
 },
 "nbformat": 3,
 "nbformat_minor": 0,
 "worksheets": [
  {
   "cells": [
    {
     "cell_type": "code",
     "collapsed": false,
     "input": [
      "import sys\n",
      "sys.path.append('C:\\\\Users\\\\u0098668\\\\Documents\\\\Modelica\\\\ModelicaRes')"
     ],
     "language": "python",
     "metadata": {},
     "outputs": [],
     "prompt_number": 3
    },
    {
     "cell_type": "code",
     "collapsed": false,
     "input": [
      "import modelicares.exps.simulators as simulators"
     ],
     "language": "python",
     "metadata": {},
     "outputs": [],
     "prompt_number": 4
    },
    {
     "cell_type": "code",
     "collapsed": false,
     "input": [
      "dymosim = simulators.dymosim(working_dir='ChuaCircuit', results_dir='dymola')"
     ],
     "language": "python",
     "metadata": {},
     "outputs": [],
     "prompt_number": 6
    },
    {
     "cell_type": "code",
     "collapsed": false,
     "input": [
      "dymosim.run('dymosim.exe', 0, 100)"
     ],
     "language": "python",
     "metadata": {},
     "outputs": [
      {
       "output_type": "stream",
       "stream": "stdout",
       "text": [
        "dymosim.exe -s dsin.txt dymola\\dsres.mat\n",
        "d"
       ]
      },
      {
       "output_type": "stream",
       "stream": "stdout",
       "text": [
        "ymosim.exe started\r\n",
        "Runtime license not available, trying to check out the Dymola Standard license instead.\r\n",
        "\r\n",
        "... \"dsin.txt\" loading (dymosim input file)\r\n",
        "... \"dymola\\dsres.mat\" creating (simulation result file)\r\n",
        "\r\n",
        "Integration started at T = 0 using integration method LSODAR\r\n",
        "(Multi-step solver for stiff and non-stiff ODE's with root finder (lsodar of ODEPACK))\r\n",
        "Integration terminated successfully at T = 100\r\n",
        "   CPU-time for integration      : 0.001 seconds\r\n",
        "   CPU-time for one GRID interval: 0.01 milli-seconds\r\n",
        "   Number of result points       : 101\r\n",
        "   Number of GRID   points       : 101\r\n",
        "   Number of (successful) steps  : 14\r\n",
        "   Number of F-evaluations       : 29\r\n",
        "   Number of H-evaluations       : 114\r\n",
        "   Number of Jacobian-evaluations: 0\r\n",
        "   Number of (model) time events : 0\r\n",
        "   Number of (U) time events     : 0\r\n",
        "   Number of state    events     : 0\r\n",
        "   Number of step     events     : 0\r\n",
        "   Minimum integration stepsize  : 2.97\r\n",
        "   Maximum integration stepsize  : 12.2\r\n",
        "   Maximum integration order     : 4\r\n",
        "Calling terminal section\r\n",
        "... \"dsfinal.txt\" creating (final states)\r\n"
       ]
      }
     ],
     "prompt_number": 7
    },
    {
     "cell_type": "code",
     "collapsed": false,
     "input": [
      "dymosim._results_dir"
     ],
     "language": "python",
     "metadata": {},
     "outputs": [
      {
       "metadata": {},
       "output_type": "pyout",
       "prompt_number": 5,
       "text": [
        "'examples/ChuaCircuit/dymola'"
       ]
      }
     ],
     "prompt_number": 5
    },
    {
     "cell_type": "code",
     "collapsed": false,
     "input": [],
     "language": "python",
     "metadata": {},
     "outputs": []
    }
   ],
   "metadata": {}
  }
 ]
}