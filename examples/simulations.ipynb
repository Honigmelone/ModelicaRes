{
 "metadata": {
  "name": "",
  "signature": "sha256:c992f8776c32a9c72d441c9c5880459f51fd43be9ef62e4f639f7f420c3b974c"
 },
 "nbformat": 3,
 "nbformat_minor": 0,
 "worksheets": [
  {
   "cells": [
    {
     "cell_type": "code",
     "collapsed": false,
     "input": [
      "import sys\n",
      "sys.path.append('C:\\\\Users\\\\u0098668\\\\Documents\\\\Modelica\\\\ModelicaRes')"
     ],
     "language": "python",
     "metadata": {},
     "outputs": [],
     "prompt_number": 1
    },
    {
     "cell_type": "code",
     "collapsed": false,
     "input": [
      "from modelicares.exps.simulators import dymosim\n",
      "simulator = dymosim(working_dir='ChuaCircuit', results_dir='dymola')\n",
      "simulator.run('dymosim.exe', 0, 100)"
     ],
     "language": "python",
     "metadata": {},
     "outputs": [
      {
       "output_type": "stream",
       "stream": "stdout",
       "text": [
        "dymosim.exe started\r\n",
        "Runtime license not available, trying to check out the Dymola Standard license instead.\r\n",
        "\r\n",
        "... \"dsin.txt\" loading (dymosim input file)\r\n",
        "... \"dymola\\dsres1.mat\" creating (simulation result file)\r\n",
        "\r\n",
        "Integration started at T = 0 using integration method LSODAR\r\n",
        "(Multi-step solver for stiff and non-stiff ODE's with root finder (lsodar of ODEPACK))\r\n",
        "Integration terminated successfully at T = 100\r\n",
        "   CPU-time for integration      : 0.002 seconds\r\n",
        "   CPU-time for one GRID interval: 0.02 milli-seconds\r\n",
        "   Number of result points       : 101\r\n",
        "   Number of GRID   points       : 101\r\n",
        "   Number of (successful) steps  : 14\r\n",
        "   Number of F-evaluations       : 29\r\n",
        "   Number of H-evaluations       : 114\r\n",
        "   Number of Jacobian-evaluations: 0\r\n",
        "   Number of (model) time events : 0\r\n",
        "   Number of (U) time events     : 0\r\n",
        "   Number of state    events     : 0\r\n",
        "   Number of step     events     : 0\r\n",
        "   Minimum integration stepsize  : 2.97\r\n",
        "   Maximum integration stepsize  : 12.2\r\n",
        "   Maximum integration order     : 4\r\n",
        "Calling terminal section\r\n",
        "... \"dsfinal.txt\" creating (final states)\r\n"
       ]
      }
     ],
     "prompt_number": 2
    },
    {
     "cell_type": "code",
     "collapsed": false,
     "input": [],
     "language": "python",
     "metadata": {},
     "outputs": []
    }
   ],
   "metadata": {}
  }
 ]
}