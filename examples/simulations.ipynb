{
 "metadata": {
  "name": "",
  "signature": "sha256:8e5422b6d9e781403068d7712a10844db319e1a549d5ee0edca605358ecc7104"
 },
 "nbformat": 3,
 "nbformat_minor": 0,
 "worksheets": [
  {
   "cells": [
    {
     "cell_type": "code",
     "collapsed": false,
     "input": [
      "import sys\n",
      "sys.path.append('C:\\\\Users\\\\u0098668\\\\Documents\\\\Modelica\\\\ModelicaRes')"
     ],
     "language": "python",
     "metadata": {},
     "outputs": [],
     "prompt_number": 1
    },
    {
     "cell_type": "code",
     "collapsed": false,
     "input": [
      "from modelicares.exps.simulators import dymosim\n",
      "simulator = dymosim(working_dir='ChuaCircuit', results_dir='dymola')\n",
      "simulator.run('dymosim.exe', 0, 100)"
     ],
     "language": "python",
     "metadata": {},
     "outputs": [
      {
       "output_type": "stream",
       "stream": "stdout",
       "text": [
        "dymosim.exe started\r\n",
        "Runtime license not available, trying to check out the Dymola Standard license instead.\r\n",
        "\r\n",
        "... \"dsin.txt\" loading (dymosim input file)\r\n",
        "... \"dymola\\dsres1.mat\" creating (simulation result file)\r\n",
        "\r\n",
        "Integration started at T = 0 using integration method LSODAR\r\n",
        "(Multi-step solver for stiff and non-stiff ODE's with root finder (lsodar of ODEPACK))\r\n",
        "Integration terminated successfully at T = 100\r\n",
        "   CPU-time for integration      : 0.002 seconds\r\n",
        "   CPU-time for one GRID interval: 0.02 milli-seconds\r\n",
        "   Number of result points       : 101\r\n",
        "   Number of GRID   points       : 101\r\n",
        "   Number of (successful) steps  : 14\r\n",
        "   Number of F-evaluations       : 29\r\n",
        "   Number of H-evaluations       : 114\r\n",
        "   Number of Jacobian-evaluations: 0\r\n",
        "   Number of (model) time events : 0\r\n",
        "   Number of (U) time events     : 0\r\n",
        "   Number of state    events     : 0\r\n",
        "   Number of step     events     : 0\r\n",
        "   Minimum integration stepsize  : 2.97\r\n",
        "   Maximum integration stepsize  : 12.2\r\n",
        "   Maximum integration order     : 4\r\n",
        "Calling terminal section\r\n",
        "... \"dsfinal.txt\" creating (final states)\r\n"
       ]
      }
     ],
     "prompt_number": 2
    },
    {
     "cell_type": "code",
     "collapsed": false,
     "input": [
      "simulator.continue_run('dymosim.exe', 100)"
     ],
     "language": "python",
     "metadata": {},
     "outputs": [
      {
       "ename": "AssertionError",
       "evalue": "Parameter StartTime does not exist or is not formatted as expected in C:\\Users\\u0098668\\Documents\\Modelica\\ModelicaRes\\examples\\ChuaCircuit\\dsfinal.txt.",
       "output_type": "pyerr",
       "traceback": [
        "\u001b[1;31m---------------------------------------------------------------------------\u001b[0m\n\u001b[1;31mAssertionError\u001b[0m                            Traceback (most recent call last)",
        "\u001b[1;32m<ipython-input-3-c3d346b741e0>\u001b[0m in \u001b[0;36m<module>\u001b[1;34m()\u001b[0m\n\u001b[1;32m----> 1\u001b[1;33m \u001b[0msimulator\u001b[0m\u001b[1;33m.\u001b[0m\u001b[0mcontinue_run\u001b[0m\u001b[1;33m(\u001b[0m\u001b[1;34m'dymosim.exe'\u001b[0m\u001b[1;33m,\u001b[0m \u001b[1;36m100\u001b[0m\u001b[1;33m)\u001b[0m\u001b[1;33m\u001b[0m\u001b[0m\n\u001b[0m",
        "\u001b[1;32mC:\\Users\\u0098668\\Documents\\Modelica\\ModelicaRes\\modelicares\\exps\\simulators.py\u001b[0m in \u001b[0;36mcontinue_run\u001b[1;34m(self, model, duration, params)\u001b[0m\n\u001b[0;32m    580\u001b[0m \u001b[1;33m\u001b[0m\u001b[0m\n\u001b[0;32m    581\u001b[0m         \u001b[1;31m# Set the new stop time\u001b[0m\u001b[1;33m\u001b[0m\u001b[1;33m\u001b[0m\u001b[0m\n\u001b[1;32m--> 582\u001b[1;33m         \u001b[0mstart_time\u001b[0m \u001b[1;33m=\u001b[0m \u001b[0mread_params\u001b[0m\u001b[1;33m(\u001b[0m\u001b[1;34m'StartTime'\u001b[0m\u001b[1;33m,\u001b[0m \u001b[0mdsfinal_path\u001b[0m\u001b[1;33m)\u001b[0m\u001b[1;33m\u001b[0m\u001b[0m\n\u001b[0m\u001b[0;32m    583\u001b[0m         \u001b[0mstop_time\u001b[0m \u001b[1;33m=\u001b[0m \u001b[0mstart_time\u001b[0m \u001b[1;33m+\u001b[0m \u001b[0mduration\u001b[0m\u001b[1;33m\u001b[0m\u001b[0m\n\u001b[0;32m    584\u001b[0m \u001b[1;33m\u001b[0m\u001b[0m\n",
        "\u001b[1;32mC:\\Users\\u0098668\\Documents\\Modelica\\ModelicaRes\\modelicares\\exps\\__init__.pyc\u001b[0m in \u001b[0;36mread_params\u001b[1;34m(names, fname)\u001b[0m\n\u001b[0;32m    161\u001b[0m \u001b[1;33m\u001b[0m\u001b[0m\n\u001b[0;32m    162\u001b[0m     \u001b[1;32mif\u001b[0m \u001b[0misinstance\u001b[0m\u001b[1;33m(\u001b[0m\u001b[0mnames\u001b[0m\u001b[1;33m,\u001b[0m \u001b[0mstring_types\u001b[0m\u001b[1;33m)\u001b[0m\u001b[1;33m:\u001b[0m\u001b[1;33m\u001b[0m\u001b[0m\n\u001b[1;32m--> 163\u001b[1;33m         \u001b[1;32mreturn\u001b[0m \u001b[0m_read_param\u001b[0m\u001b[1;33m(\u001b[0m\u001b[0mnames\u001b[0m\u001b[1;33m)\u001b[0m\u001b[1;33m\u001b[0m\u001b[0m\n\u001b[0m\u001b[0;32m    164\u001b[0m     \u001b[1;32melse\u001b[0m\u001b[1;33m:\u001b[0m\u001b[1;33m\u001b[0m\u001b[0m\n\u001b[0;32m    165\u001b[0m         \u001b[1;32mreturn\u001b[0m \u001b[1;33m[\u001b[0m\u001b[0m_read_param\u001b[0m\u001b[1;33m(\u001b[0m\u001b[0mname\u001b[0m\u001b[1;33m)\u001b[0m \u001b[1;32mfor\u001b[0m \u001b[0mname\u001b[0m \u001b[1;32min\u001b[0m \u001b[0mnames\u001b[0m\u001b[1;33m]\u001b[0m\u001b[1;33m\u001b[0m\u001b[0m\n",
        "\u001b[1;32mC:\\Users\\u0098668\\Documents\\Modelica\\ModelicaRes\\modelicares\\exps\\__init__.pyc\u001b[0m in \u001b[0;36m_read_param\u001b[1;34m(name)\u001b[0m\n\u001b[0;32m    158\u001b[0m             raise AssertionError(\n\u001b[0;32m    159\u001b[0m                 \u001b[1;34m\"Parameter %s does not exist or is not formatted as expected \"\u001b[0m\u001b[1;33m\u001b[0m\u001b[0m\n\u001b[1;32m--> 160\u001b[1;33m                 \"in %s.\" % (name, fname))\n\u001b[0m\u001b[0;32m    161\u001b[0m \u001b[1;33m\u001b[0m\u001b[0m\n\u001b[0;32m    162\u001b[0m     \u001b[1;32mif\u001b[0m \u001b[0misinstance\u001b[0m\u001b[1;33m(\u001b[0m\u001b[0mnames\u001b[0m\u001b[1;33m,\u001b[0m \u001b[0mstring_types\u001b[0m\u001b[1;33m)\u001b[0m\u001b[1;33m:\u001b[0m\u001b[1;33m\u001b[0m\u001b[0m\n",
        "\u001b[1;31mAssertionError\u001b[0m: Parameter StartTime does not exist or is not formatted as expected in C:\\Users\\u0098668\\Documents\\Modelica\\ModelicaRes\\examples\\ChuaCircuit\\dsfinal.txt."
       ]
      }
     ],
     "prompt_number": 3
    },
    {
     "cell_type": "code",
     "collapsed": false,
     "input": [
      "from modelicares.exps import read_params, write_params"
     ],
     "language": "python",
     "metadata": {},
     "outputs": [],
     "prompt_number": 9
    },
    {
     "cell_type": "code",
     "collapsed": false,
     "input": [
      "import os\n",
      "os.getcwd()"
     ],
     "language": "python",
     "metadata": {},
     "outputs": [
      {
       "metadata": {},
       "output_type": "pyout",
       "prompt_number": 10,
       "text": [
        "'C:\\\\Users\\\\u0098668\\\\Documents\\\\Modelica\\\\ModelicaRes\\\\examples'"
       ]
      }
     ],
     "prompt_number": 10
    },
    {
     "cell_type": "code",
     "collapsed": false,
     "input": [
      "read_params('StartTime', 'ChuaCircuit/dsin.txt')"
     ],
     "language": "python",
     "metadata": {},
     "outputs": [
      {
       "ename": "AssertionError",
       "evalue": "Parameter StartTime does not exist or is not formatted as expected in ChuaCircuit/dsin.txt.",
       "output_type": "pyerr",
       "traceback": [
        "\u001b[1;31m---------------------------------------------------------------------------\u001b[0m\n\u001b[1;31mAssertionError\u001b[0m                            Traceback (most recent call last)",
        "\u001b[1;32m<ipython-input-11-b3dd15550513>\u001b[0m in \u001b[0;36m<module>\u001b[1;34m()\u001b[0m\n\u001b[1;32m----> 1\u001b[1;33m \u001b[0mread_params\u001b[0m\u001b[1;33m(\u001b[0m\u001b[1;34m'StartTime'\u001b[0m\u001b[1;33m,\u001b[0m \u001b[1;34m'ChuaCircuit/dsin.txt'\u001b[0m\u001b[1;33m)\u001b[0m\u001b[1;33m\u001b[0m\u001b[0m\n\u001b[0m",
        "\u001b[1;32mC:\\Users\\u0098668\\Documents\\Modelica\\ModelicaRes\\modelicares\\exps\\__init__.pyc\u001b[0m in \u001b[0;36mread_params\u001b[1;34m(names, fname)\u001b[0m\n\u001b[0;32m    161\u001b[0m \u001b[1;33m\u001b[0m\u001b[0m\n\u001b[0;32m    162\u001b[0m     \u001b[1;32mif\u001b[0m \u001b[0misinstance\u001b[0m\u001b[1;33m(\u001b[0m\u001b[0mnames\u001b[0m\u001b[1;33m,\u001b[0m \u001b[0mstring_types\u001b[0m\u001b[1;33m)\u001b[0m\u001b[1;33m:\u001b[0m\u001b[1;33m\u001b[0m\u001b[0m\n\u001b[1;32m--> 163\u001b[1;33m         \u001b[1;32mreturn\u001b[0m \u001b[0m_read_param\u001b[0m\u001b[1;33m(\u001b[0m\u001b[0mnames\u001b[0m\u001b[1;33m)\u001b[0m\u001b[1;33m\u001b[0m\u001b[0m\n\u001b[0m\u001b[0;32m    164\u001b[0m     \u001b[1;32melse\u001b[0m\u001b[1;33m:\u001b[0m\u001b[1;33m\u001b[0m\u001b[0m\n\u001b[0;32m    165\u001b[0m         \u001b[1;32mreturn\u001b[0m \u001b[1;33m[\u001b[0m\u001b[0m_read_param\u001b[0m\u001b[1;33m(\u001b[0m\u001b[0mname\u001b[0m\u001b[1;33m)\u001b[0m \u001b[1;32mfor\u001b[0m \u001b[0mname\u001b[0m \u001b[1;32min\u001b[0m \u001b[0mnames\u001b[0m\u001b[1;33m]\u001b[0m\u001b[1;33m\u001b[0m\u001b[0m\n",
        "\u001b[1;32mC:\\Users\\u0098668\\Documents\\Modelica\\ModelicaRes\\modelicares\\exps\\__init__.pyc\u001b[0m in \u001b[0;36m_read_param\u001b[1;34m(name)\u001b[0m\n\u001b[0;32m    158\u001b[0m             raise AssertionError(\n\u001b[0;32m    159\u001b[0m                 \u001b[1;34m\"Parameter %s does not exist or is not formatted as expected \"\u001b[0m\u001b[1;33m\u001b[0m\u001b[0m\n\u001b[1;32m--> 160\u001b[1;33m                 \"in %s.\" % (name, fname))\n\u001b[0m\u001b[0;32m    161\u001b[0m \u001b[1;33m\u001b[0m\u001b[0m\n\u001b[0;32m    162\u001b[0m     \u001b[1;32mif\u001b[0m \u001b[0misinstance\u001b[0m\u001b[1;33m(\u001b[0m\u001b[0mnames\u001b[0m\u001b[1;33m,\u001b[0m \u001b[0mstring_types\u001b[0m\u001b[1;33m)\u001b[0m\u001b[1;33m:\u001b[0m\u001b[1;33m\u001b[0m\u001b[0m\n",
        "\u001b[1;31mAssertionError\u001b[0m: Parameter StartTime does not exist or is not formatted as expected in ChuaCircuit/dsin.txt."
       ]
      }
     ],
     "prompt_number": 11
    },
    {
     "cell_type": "code",
     "collapsed": false,
     "input": [
      "write_params({'StartTime': 0}, 'ChuaCircuit/dsin.txt')"
     ],
     "language": "python",
     "metadata": {},
     "outputs": [],
     "prompt_number": 14
    },
    {
     "cell_type": "code",
     "collapsed": false,
     "input": [
      "import pyfmi"
     ],
     "language": "python",
     "metadata": {},
     "outputs": [],
     "prompt_number": 3
    },
    {
     "cell_type": "code",
     "collapsed": false,
     "input": [
      "os.cwd()"
     ],
     "language": "python",
     "metadata": {},
     "outputs": [
      {
       "ename": "NameError",
       "evalue": "name 'os' is not defined",
       "output_type": "pyerr",
       "traceback": [
        "\u001b[1;31m---------------------------------------------------------------------------\u001b[0m\n\u001b[1;31mNameError\u001b[0m                                 Traceback (most recent call last)",
        "\u001b[1;32m<ipython-input-4-a5cadddc454d>\u001b[0m in \u001b[0;36m<module>\u001b[1;34m()\u001b[0m\n\u001b[1;32m----> 1\u001b[1;33m \u001b[0mos\u001b[0m\u001b[1;33m.\u001b[0m\u001b[0mcwd\u001b[0m\u001b[1;33m(\u001b[0m\u001b[1;33m)\u001b[0m\u001b[1;33m\u001b[0m\u001b[0m\n\u001b[0m",
        "\u001b[1;31mNameError\u001b[0m: name 'os' is not defined"
       ]
      }
     ],
     "prompt_number": 4
    },
    {
     "cell_type": "code",
     "collapsed": false,
     "input": [
      "import os"
     ],
     "language": "python",
     "metadata": {},
     "outputs": [],
     "prompt_number": 5
    },
    {
     "cell_type": "code",
     "collapsed": false,
     "input": [
      "os.getcwd()"
     ],
     "language": "python",
     "metadata": {},
     "outputs": [
      {
       "metadata": {},
       "output_type": "pyout",
       "prompt_number": 8,
       "text": [
        "'C:\\\\Users\\\\u0098668\\\\Documents\\\\Modelica\\\\ModelicaRes\\\\examples'"
       ]
      }
     ],
     "prompt_number": 8
    },
    {
     "cell_type": "code",
     "collapsed": false,
     "input": [
      "fmu = pyfmi.load_fmu('bouncingBall.fmu')"
     ],
     "language": "python",
     "metadata": {},
     "outputs": [],
     "prompt_number": 9
    },
    {
     "cell_type": "code",
     "collapsed": false,
     "input": [
      "opts = fmu.simulate_options()"
     ],
     "language": "python",
     "metadata": {},
     "outputs": [],
     "prompt_number": 10
    },
    {
     "cell_type": "code",
     "collapsed": false,
     "input": [
      "opts?"
     ],
     "language": "python",
     "metadata": {},
     "outputs": [],
     "prompt_number": 11
    },
    {
     "cell_type": "code",
     "collapsed": false,
     "input": [],
     "language": "python",
     "metadata": {},
     "outputs": []
    }
   ],
   "metadata": {}
  }
 ]
}