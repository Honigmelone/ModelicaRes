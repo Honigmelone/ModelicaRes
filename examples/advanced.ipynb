{
 "metadata": {
  "name": ""
 },
 "nbformat": 3,
 "nbformat_minor": 0,
 "worksheets": [
  {
   "cells": [
    {
     "cell_type": "heading",
     "level": 1,
     "metadata": {},
     "source": [
      "Advanced topics on the [ModelicaRes](http://kdavies4.github.io/ModelicaRes) package"
     ]
    },
    {
     "cell_type": "heading",
     "level": 2,
     "metadata": {},
     "source": [
      "Set up"
     ]
    },
    {
     "cell_type": "code",
     "collapsed": false,
     "input": [
      "from modelicares import SimRes\n",
      "sim = SimRes('ChuaCircuit')"
     ],
     "language": "python",
     "metadata": {},
     "outputs": [],
     "prompt_number": 4
    },
    {
     "cell_type": "heading",
     "level": 2,
     "metadata": {},
     "source": [
      "Speed of access"
     ]
    },
    {
     "cell_type": "markdown",
     "metadata": {},
     "source": [
      "In the tutorial, we saw two ways to access variables: the get item method (square brackets) and the call method (parentheses).  The get item method allows access to only one variable at a time, but it is about twice as fast:"
     ]
    },
    {
     "cell_type": "code",
     "collapsed": false,
     "input": [
      "timeit sim['L.i'].values()"
     ],
     "language": "python",
     "metadata": {},
     "outputs": [
      {
       "output_type": "stream",
       "stream": "stdout",
       "text": [
        "1000000 loops, best of 3: 1.11 \u00b5s per loop\n"
       ]
      }
     ],
     "prompt_number": 5
    },
    {
     "cell_type": "code",
     "collapsed": false,
     "input": [
      "timeit sim('L.i').values()"
     ],
     "language": "python",
     "metadata": {},
     "outputs": [
      {
       "output_type": "stream",
       "stream": "stdout",
       "text": [
        "100000 loops, best of 3: 2.13 \u00b5s per loop\n"
       ]
      }
     ],
     "prompt_number": 6
    },
    {
     "cell_type": "markdown",
     "metadata": {},
     "source": [
      "Both of these approaches consist of two steps: accessing the variable entry (`sim['L.i']` or `sim('L.i')`) and then reading the values.  The first step takes negligible time using the get item method but significant time using the call method.  If we will be accessing a group of variables multiple times (to get their values, units, times, etc.), it is best to assign a variable to the group:"
     ]
    },
    {
     "cell_type": "code",
     "collapsed": false,
     "input": [
      "voltages = sim.names('^[^.]*.v$', re=True)\n",
      "v = sim(voltages)"
     ],
     "language": "python",
     "metadata": {},
     "outputs": [],
     "prompt_number": 9
    },
    {
     "cell_type": "markdown",
     "metadata": {},
     "source": [
      "Now we can access the values:"
     ]
    },
    {
     "cell_type": "code",
     "collapsed": false,
     "input": [
      "timeit v.values()"
     ],
     "language": "python",
     "metadata": {},
     "outputs": [
      {
       "output_type": "stream",
       "stream": "stdout",
       "text": [
        "100000 loops, best of 3: 7.78 \u00b5s per loop\n"
       ]
      }
     ],
     "prompt_number": 10
    },
    {
     "cell_type": "markdown",
     "metadata": {},
     "source": [
      "which is faster than the following: "
     ]
    },
    {
     "cell_type": "code",
     "collapsed": false,
     "input": [
      "timeit sim(voltages).values()"
     ],
     "language": "python",
     "metadata": {},
     "outputs": [
      {
       "output_type": "stream",
       "stream": "stdout",
       "text": [
        "100000 loops, best of 3: 11.5 \u00b5s per loop\n"
       ]
      }
     ],
     "prompt_number": 11
    }
   ],
   "metadata": {}
  }
 ]
}