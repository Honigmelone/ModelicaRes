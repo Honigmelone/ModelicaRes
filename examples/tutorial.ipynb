{
 "metadata": {
  "name": ""
 },
 "nbformat": 3,
 "nbformat_minor": 0,
 "worksheets": [
  {
   "cells": [
    {
     "cell_type": "heading",
     "level": 2,
     "metadata": {},
     "source": [
      "Set up"
     ]
    },
    {
     "cell_type": "markdown",
     "metadata": {},
     "source": [
      "First, we'll load some results."
     ]
    },
    {
     "cell_type": "code",
     "collapsed": false,
     "input": [
      "from modelicares import SimRes, LinRes"
     ],
     "language": "python",
     "metadata": {},
     "outputs": [],
     "prompt_number": 2
    },
    {
     "cell_type": "code",
     "collapsed": false,
     "input": [
      "sim = SimRes('ChuaCircuit.mat')\n",
      "print(sim)"
     ],
     "language": "python",
     "metadata": {},
     "outputs": [
      {
       "output_type": "stream",
       "stream": "stdout",
       "text": [
        "Modelica simulation results from \"/home/kld/Desktop/ModelicaRes/examples/ChuaCircuit.mat\"\n"
       ]
      }
     ],
     "prompt_number": 3
    },
    {
     "cell_type": "code",
     "collapsed": false,
     "input": [
      "lin = LinRes('PID.mat')\n",
      "print(lin)"
     ],
     "language": "python",
     "metadata": {},
     "outputs": [
      {
       "output_type": "stream",
       "stream": "stdout",
       "text": [
        "Modelica linearization results from \"/home/kld/Desktop/ModelicaRes/examples/PID.mat\"\n"
       ]
      }
     ],
     "prompt_number": 4
    },
    {
     "cell_type": "markdown",
     "metadata": {},
     "source": [
      "We'll get ready to show the plots in this IPython notebook:"
     ]
    },
    {
     "cell_type": "code",
     "collapsed": false,
     "input": [
      "from matplotlib.pyplot import show\n",
      "%matplotlib inline"
     ],
     "language": "python",
     "metadata": {},
     "outputs": [],
     "prompt_number": 5
    },
    {
     "cell_type": "heading",
     "level": 2,
     "metadata": {},
     "source": [
      "Analyzing the simulation results"
     ]
    },
    {
     "cell_type": "markdown",
     "metadata": {},
     "source": [
      "Now we'll explore the simulation results and create plots using the methods in\n",
      "[SimRes](http://kdavies4.github.io/ModelicaRes/simres.html#modelicares.simres.SimRes).  To get the final value and unit of the current flowing through the inductor \n",
      "('L.i'), we can use [get_min](http://kdavies4.github.io/ModelicaRes/simres.html#modelicares.simres.SimRes.get_min)() and \n",
      "[get_min](http://kdavies4.github.io/ModelicaRes/simres.html#modelicares.simres.SimRes.get_unit)():"
     ]
    },
    {
     "cell_type": "code",
     "collapsed": false,
     "input": [
      "sim.get_FV('L.i')"
     ],
     "language": "python",
     "metadata": {},
     "outputs": [
      {
       "metadata": {},
       "output_type": "pyout",
       "prompt_number": 6,
       "text": [
        "2.0486615"
       ]
      }
     ],
     "prompt_number": 6
    },
    {
     "cell_type": "code",
     "collapsed": false,
     "input": [
      "sim.get_unit('L.i')"
     ],
     "language": "python",
     "metadata": {},
     "outputs": [
      {
       "metadata": {},
       "output_type": "pyout",
       "prompt_number": 7,
       "text": [
        "'A'"
       ]
      }
     ],
     "prompt_number": 7
    },
    {
     "cell_type": "markdown",
     "metadata": {},
     "source": [
      "There are other *get_* methods.  For example,"
     ]
    },
    {
     "cell_type": "code",
     "collapsed": false,
     "input": [
      "dict(final=sim.get_FV('L.i'), maximum=sim.get_max('L.i'), mean=sim.get_mean('L.i'), minimum=sim.get_min('L.i'))"
     ],
     "language": "python",
     "metadata": {},
     "outputs": [
      {
       "metadata": {},
       "output_type": "pyout",
       "prompt_number": 8,
       "text": [
        "{'final': 2.0486615,\n",
        " 'maximum': 3.9185011,\n",
        " 'mean': 0.43196017,\n",
        " 'minimum': -3.3101323}"
       ]
      }
     ],
     "prompt_number": 8
    },
    {
     "cell_type": "markdown",
     "metadata": {},
     "source": [
      "If a variable doesn't exist, then suggestions are given:"
     ]
    },
    {
     "cell_type": "code",
     "collapsed": false,
     "input": [
      "sim.get_description('L.ii')"
     ],
     "language": "python",
     "metadata": {},
     "outputs": [
      {
       "output_type": "stream",
       "stream": "stdout",
       "text": [
        "L.ii is not a valid variable name.\n",
        "\n",
        "Did you mean one of these?\n",
        "       L.i\n",
        "       L.p.i\n",
        "       L.n.i\n"
       ]
      }
     ],
     "prompt_number": 9
    },
    {
     "cell_type": "code",
     "collapsed": false,
     "input": [
      "sim.get_description('L.i')"
     ],
     "language": "python",
     "metadata": {},
     "outputs": [
      {
       "metadata": {},
       "output_type": "pyout",
       "prompt_number": 10,
       "text": [
        "'Current flowing from pin p to pin n'"
       ]
      }
     ],
     "prompt_number": 10
    },
    {
     "cell_type": "markdown",
     "metadata": {},
     "source": [
      "To search for variable names, use [names](http://kdavies4.github.io/ModelicaRes/simres.html#modelicares.simres.SimRes.names)() with wildcards:"
     ]
    },
    {
     "cell_type": "code",
     "collapsed": false,
     "input": [
      "sim.names('L.p*')"
     ],
     "language": "python",
     "metadata": {},
     "outputs": [
      {
       "metadata": {},
       "output_type": "pyout",
       "prompt_number": 11,
       "text": [
        "[u'L.p.i', u'L.p.v']"
       ]
      }
     ],
     "prompt_number": 11
    },
    {
     "cell_type": "markdown",
     "metadata": {},
     "source": [
      "To see how many variables are in a simulation, use Python's built-in \n",
      "[len](https://docs.python.org/2/library/functions.html#len)() function:"
     ]
    },
    {
     "cell_type": "code",
     "collapsed": false,
     "input": [
      "len(sim)"
     ],
     "language": "python",
     "metadata": {},
     "outputs": [
      {
       "metadata": {},
       "output_type": "pyout",
       "prompt_number": 12,
       "text": [
        "62"
       ]
      }
     ],
     "prompt_number": 12
    },
    {
     "cell_type": "markdown",
     "metadata": {},
     "source": [
      "To return all values of 'L.i', use [get_values](http://kdavies4.github.io/ModelicaRes/simres.html#modelicares.simres.SimRes.get_values)():"
     ]
    },
    {
     "cell_type": "code",
     "collapsed": false,
     "input": [
      "sim.get_values('L.i');"
     ],
     "language": "python",
     "metadata": {},
     "outputs": [],
     "prompt_number": 13
    },
    {
     "cell_type": "markdown",
     "metadata": {},
     "source": [
      "Since the output is long, we've suppressed it using a semicolon.  To return a tuple of time and value vectors, use \n",
      "[get_tuple](http://kdavies4.github.io/ModelicaRes/simres.html#modelicares.simres.SimRes.get_tuple)():"
     ]
    },
    {
     "cell_type": "code",
     "collapsed": false,
     "input": [
      "sim.get_tuple('L.i');"
     ],
     "language": "python",
     "metadata": {},
     "outputs": [],
     "prompt_number": 14
    },
    {
     "cell_type": "markdown",
     "metadata": {},
     "source": [
      "or simply index the variable name or provide it as an argument:"
     ]
    },
    {
     "cell_type": "code",
     "collapsed": true,
     "input": [
      "sim['L.i'];"
     ],
     "language": "python",
     "metadata": {},
     "outputs": [],
     "prompt_number": 15
    },
    {
     "cell_type": "code",
     "collapsed": true,
     "input": [
      "sim('L.i');"
     ],
     "language": "python",
     "metadata": {},
     "outputs": [],
     "prompt_number": 16
    },
    {
     "cell_type": "markdown",
     "metadata": {},
     "source": [
      "To plot values, use [plot](http://kdavies4.github.io/ModelicaRes/simres.html#modelicares.simres.SimRes.plot)().  Here, we'll plot the voltages across all of the components:"
     ]
    },
    {
     "cell_type": "code",
     "collapsed": false,
     "input": [
      "sim.plot(sim.names('^[^.]*.v$', re=True))\n",
      "show()"
     ],
     "language": "python",
     "metadata": {},
     "outputs": [
      {
       "metadata": {},
       "output_type": "display_data",
       "png": "[encoded data removed]",
       "text": [
        "<matplotlib.figure.Figure at 0x7f4da1a08750>"
       ]
      }
     ],
     "prompt_number": 30
    },
    {
     "cell_type": "markdown",
     "metadata": {},
     "source": [
      "The title and labels were generated automatically, but they can be customized using other arguments.  For more information, see the [plot function documentation](http://kdavies4.github.io/ModelicaRes/simres.html#modelicares.simres.SimRes.plot) or use \n",
      "Python's [help](https://docs.python.org/2/library/functions.html#help) function (e.g., `help(sim.plot)`)."
     ]
    },
    {
     "cell_type": "markdown",
     "metadata": {},
     "source": [
      "There are additional methods besides those shown here.  See the [SimRes documentation](http://kdavies4.github.io/ModelicaRes/simres.html#modelicares.simres.SimRes) for a full list."
     ]
    },
    {
     "cell_type": "heading",
     "level": 2,
     "metadata": {},
     "source": [
      "Analysis of the linearization results"
     ]
    },
    {
     "cell_type": "markdown",
     "metadata": {},
     "source": [
      "Likewise, we can explore the linearization result and create diagrams using the\n",
      "methods in [LinRes](http://kdavies4.github.io/ModelicaRes/linres.html#modelicares.linres.LinRes).  The `sys` attribute is a instance of the [StateSpace class](http://python-control.sourceforge.net/manual/class_strings.html#module-statesp) from the [control](https://pypi.python.org/pypi/control) package.  The state names are available in `sys.stateName`:"
     ]
    },
    {
     "cell_type": "code",
     "collapsed": false,
     "input": [
      "lin.sys.stateName"
     ],
     "language": "python",
     "metadata": {},
     "outputs": [
      {
       "metadata": {},
       "output_type": "pyout",
       "prompt_number": 17,
       "text": [
        "['I.y', 'D.x']"
       ]
      }
     ],
     "prompt_number": 17
    },
    {
     "cell_type": "markdown",
     "metadata": {},
     "source": [
      "The input and output names are also available:"
     ]
    },
    {
     "cell_type": "code",
     "collapsed": false,
     "input": [
      "lin.sys.inputName"
     ],
     "language": "python",
     "metadata": {},
     "outputs": [
      {
       "metadata": {},
       "output_type": "pyout",
       "prompt_number": 18,
       "text": [
        "['u']"
       ]
      }
     ],
     "prompt_number": 18
    },
    {
     "cell_type": "code",
     "collapsed": false,
     "input": [
      "lin.sys.outputName"
     ],
     "language": "python",
     "metadata": {},
     "outputs": [
      {
       "metadata": {},
       "output_type": "pyout",
       "prompt_number": 19,
       "text": [
        "['y']"
       ]
      }
     ],
     "prompt_number": 19
    },
    {
     "cell_type": "markdown",
     "metadata": {},
     "source": [
      "The system matrixes are available in `sys.A`, `sys.B`, `sys.C`, and `sys.D`, e.g.,"
     ]
    },
    {
     "cell_type": "code",
     "collapsed": false,
     "input": [
      "lin.sys.A"
     ],
     "language": "python",
     "metadata": {},
     "outputs": [
      {
       "metadata": {},
       "output_type": "pyout",
       "prompt_number": 20,
       "text": [
        "matrix([[   0.,    0.],\n",
        "        [   0., -100.]])"
       ]
      }
     ],
     "prompt_number": 20
    },
    {
     "cell_type": "markdown",
     "metadata": {},
     "source": [
      "We can create a Bode plot using [bode](http://kdavies4.github.io/ModelicaRes/linres.html#modelicares.linres.LinRes.bode)():"
     ]
    },
    {
     "cell_type": "code",
     "collapsed": false,
     "input": [
      "lin.bode()\n",
      "show()"
     ],
     "language": "python",
     "metadata": {},
     "outputs": [
      {
       "metadata": {},
       "output_type": "display_data",
       "png": "[encoded data removed]",
       "text": [
        "<matplotlib.figure.Figure at 0x7f56a932c950>"
       ]
      }
     ],
     "prompt_number": 21
    },
    {
     "cell_type": "markdown",
     "metadata": {},
     "source": [
      "Nyquist plots are also available using [nyquist](http://kdavies4.github.io/ModelicaRes/linres.html#modelicares.linres.LinRes.nyquist)()."
     ]
    }
   ],
   "metadata": {}
  }
 ]
}