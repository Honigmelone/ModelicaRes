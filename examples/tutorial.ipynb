{
 "metadata": {
  "name": ""
 },
 "nbformat": 3,
 "nbformat_minor": 0,
 "worksheets": [
  {
   "cells": [
    {
     "cell_type": "heading",
     "level": 2,
     "metadata": {},
     "source": [
      "Set up"
     ]
    },
    {
     "cell_type": "markdown",
     "metadata": {},
     "source": [
      "First, we'll load some results."
     ]
    },
    {
     "cell_type": "code",
     "collapsed": false,
     "input": [
      "from modelicares import SimRes, LinRes"
     ],
     "language": "python",
     "metadata": {},
     "outputs": [],
     "prompt_number": 1
    },
    {
     "cell_type": "code",
     "collapsed": false,
     "input": [
      "sim = SimRes('ChuaCircuit')\n",
      "print(sim)"
     ],
     "language": "python",
     "metadata": {},
     "outputs": [
      {
       "output_type": "stream",
       "stream": "stdout",
       "text": [
        "Modelica simulation results from \"/media/kld/Storage/Documents/Python/ModelicaRes/examples/ChuaCircuit.mat\"\n"
       ]
      }
     ],
     "prompt_number": 27
    },
    {
     "cell_type": "code",
     "collapsed": false,
     "input": [
      "lin = LinRes('PID')\n",
      "print(lin)"
     ],
     "language": "python",
     "metadata": {},
     "outputs": [
      {
       "output_type": "stream",
       "stream": "stdout",
       "text": [
        "Modelica linearization results from \"/media/kld/Storage/Documents/Python/ModelicaRes/examples/PID.mat\"\n"
       ]
      }
     ],
     "prompt_number": 28
    },
    {
     "cell_type": "markdown",
     "metadata": {},
     "source": [
      "We'll get ready to show the plots in this IPython notebook:"
     ]
    },
    {
     "cell_type": "code",
     "collapsed": false,
     "input": [
      "from matplotlib.pyplot import show\n",
      "%matplotlib inline"
     ],
     "language": "python",
     "metadata": {},
     "outputs": [],
     "prompt_number": 4
    },
    {
     "cell_type": "heading",
     "level": 2,
     "metadata": {},
     "source": [
      "Analyzing the simulation results"
     ]
    },
    {
     "cell_type": "markdown",
     "metadata": {},
     "source": [
      "Now we'll explore the simulation results and create plots using the methods in\n",
      "[SimRes](http://kdavies4.github.io/ModelicaRes/simres.html#modelicares.simres.SimRes).  To get the final value and unit of the current flowing through the inductor \n",
      "('L.i'), we can use [get_min](http://kdavies4.github.io/ModelicaRes/simres.html#modelicares.simres.SimRes.get_min)() and \n",
      "[get_min](http://kdavies4.github.io/ModelicaRes/simres.html#modelicares.simres.SimRes.get_unit)():"
     ]
    },
    {
     "cell_type": "code",
     "collapsed": false,
     "input": [
      "sim.get_FV('L.i')"
     ],
     "language": "python",
     "metadata": {},
     "outputs": [
      {
       "metadata": {},
       "output_type": "pyout",
       "prompt_number": 5,
       "text": [
        "2.0486615"
       ]
      }
     ],
     "prompt_number": 5
    },
    {
     "cell_type": "code",
     "collapsed": false,
     "input": [
      "sim.get_unit('L.i')"
     ],
     "language": "python",
     "metadata": {},
     "outputs": [
      {
       "metadata": {},
       "output_type": "pyout",
       "prompt_number": 6,
       "text": [
        "'A'"
       ]
      }
     ],
     "prompt_number": 6
    },
    {
     "cell_type": "markdown",
     "metadata": {},
     "source": [
      "There are other *get_* methods.  For example,"
     ]
    },
    {
     "cell_type": "code",
     "collapsed": false,
     "input": [
      "dict(final=sim.get_FV('L.i'), \n",
      "     maximum=sim.get_max('L.i'), \n",
      "     mean=sim.get_mean('L.i'), \n",
      "     minimum=sim.get_min('L.i'))"
     ],
     "language": "python",
     "metadata": {},
     "outputs": [
      {
       "metadata": {},
       "output_type": "pyout",
       "prompt_number": 25,
       "text": [
        "{'final': 2.0486615,\n",
        " 'maximum': 3.9185011,\n",
        " 'mean': 0.43196017,\n",
        " 'minimum': -3.3101323}"
       ]
      }
     ],
     "prompt_number": 25
    },
    {
     "cell_type": "markdown",
     "metadata": {},
     "source": [
      "If a variable doesn't exist, then suggestions are given:"
     ]
    },
    {
     "cell_type": "code",
     "collapsed": false,
     "input": [
      "sim.get_description('L.ii')"
     ],
     "language": "python",
     "metadata": {},
     "outputs": [
      {
       "output_type": "stream",
       "stream": "stdout",
       "text": [
        "L.ii is not a valid variable name.\n",
        "\n",
        "Did you mean one of these?\n",
        "       L.i\n",
        "       L.p.i\n",
        "       L.n.i\n"
       ]
      }
     ],
     "prompt_number": 8
    },
    {
     "cell_type": "code",
     "collapsed": false,
     "input": [
      "sim.get_description('L.i')"
     ],
     "language": "python",
     "metadata": {},
     "outputs": [
      {
       "metadata": {},
       "output_type": "pyout",
       "prompt_number": 9,
       "text": [
        "'Current flowing from pin p to pin n'"
       ]
      }
     ],
     "prompt_number": 9
    },
    {
     "cell_type": "markdown",
     "metadata": {},
     "source": [
      "To check if a variable is included in the results, we can use Python's [in operator](https://docs.python.org/2/library/operator.html#operator.__contains__)."
     ]
    },
    {
     "cell_type": "code",
     "collapsed": false,
     "input": [
      "'L.i' in sim"
     ],
     "language": "python",
     "metadata": {},
     "outputs": [
      {
       "metadata": {},
       "output_type": "pyout",
       "prompt_number": 26,
       "text": [
        "True"
       ]
      }
     ],
     "prompt_number": 26
    },
    {
     "cell_type": "markdown",
     "metadata": {},
     "source": [
      "To search for variable names, use [names](http://kdavies4.github.io/ModelicaRes/simres.html#modelicares.simres.SimRes.names)() with wildcards:"
     ]
    },
    {
     "cell_type": "code",
     "collapsed": false,
     "input": [
      "sim.names('L.p*')"
     ],
     "language": "python",
     "metadata": {},
     "outputs": [
      {
       "metadata": {},
       "output_type": "pyout",
       "prompt_number": 10,
       "text": [
        "['L.p.i', 'L.p.v']"
       ]
      }
     ],
     "prompt_number": 10
    },
    {
     "cell_type": "markdown",
     "metadata": {},
     "source": [
      "To see how many variables are in a simulation, use Python's built-in \n",
      "[len](https://docs.python.org/2/library/functions.html#len)() function:"
     ]
    },
    {
     "cell_type": "code",
     "collapsed": false,
     "input": [
      "len(sim)"
     ],
     "language": "python",
     "metadata": {},
     "outputs": [
      {
       "metadata": {},
       "output_type": "pyout",
       "prompt_number": 11,
       "text": [
        "62"
       ]
      }
     ],
     "prompt_number": 11
    },
    {
     "cell_type": "markdown",
     "metadata": {},
     "source": [
      "To return all values of a variable, use [get_values](http://kdavies4.github.io/ModelicaRes/simres.html#modelicares.simres.SimRes.get_values)():"
     ]
    },
    {
     "cell_type": "code",
     "collapsed": false,
     "input": [
      "sim.get_values('L.i');"
     ],
     "language": "python",
     "metadata": {},
     "outputs": [],
     "prompt_number": 12
    },
    {
     "cell_type": "markdown",
     "metadata": {},
     "source": [
      "Since the output is long, we've suppressed it using a semicolon.  To return a tuple of time and value vectors, use \n",
      "[get_tuple](http://kdavies4.github.io/ModelicaRes/simres.html#modelicares.simres.SimRes.get_tuple)():"
     ]
    },
    {
     "cell_type": "code",
     "collapsed": false,
     "input": [
      "sim.get_tuple('L.i');"
     ],
     "language": "python",
     "metadata": {},
     "outputs": [],
     "prompt_number": 13
    },
    {
     "cell_type": "markdown",
     "metadata": {},
     "source": [
      "or simply index the variable name or provide it as an argument:"
     ]
    },
    {
     "cell_type": "code",
     "collapsed": true,
     "input": [
      "sim['L.i'];"
     ],
     "language": "python",
     "metadata": {},
     "outputs": [],
     "prompt_number": 14
    },
    {
     "cell_type": "code",
     "collapsed": true,
     "input": [
      "sim('L.i');"
     ],
     "language": "python",
     "metadata": {},
     "outputs": [],
     "prompt_number": 15
    },
    {
     "cell_type": "markdown",
     "metadata": {},
     "source": [
      "To plot values, use [plot](http://kdavies4.github.io/ModelicaRes/simres.html#modelicares.simres.SimRes.plot)().  Here, we'll plot the voltages across all of the components:"
     ]
    },
    {
     "cell_type": "code",
     "collapsed": false,
     "input": [
      "voltages = sim.names('^[^.]*.v$', re=True)\n",
      "sim.plot(voltages)\n",
      "show()"
     ],
     "language": "python",
     "metadata": {},
     "outputs": [
      {
       "metadata": {},
       "output_type": "display_data",
       "png": "[encoded data removed]",
       "text": [
        "<matplotlib.figure.Figure at 0x7f6492abd390>"
       ]
      }
     ],
     "prompt_number": 23
    },
    {
     "cell_type": "markdown",
     "metadata": {},
     "source": [
      "The title and labels were generated automatically, but they can be customized using other [plot](http://kdavies4.github.io/ModelicaRes/simres.html#modelicares.simres.SimRes.plot) arguments or functions from [matplotlib.pyplot](http://matplotlib.org/api/pyplot_api.html#module-matplotlib.pyplot)."
     ]
    },
    {
     "cell_type": "markdown",
     "metadata": {},
     "source": [
      "We can export the results to [comma-separated values (CSV)](http://en.wikipedia.org/wiki/Comma-separated_values) and many other formats using [Pandas data frames](http://pandas.pydata.org/pandas-docs/stable/generated/pandas.DataFrame.html?highlight=dataframe#pandas.DataFrame)."
     ]
    },
    {
     "cell_type": "code",
     "collapsed": false,
     "input": [
      "data = sim.to_pandas(voltages)\n",
      "data.to_csv('ChuaCircuit-voltages.csv')"
     ],
     "language": "python",
     "metadata": {},
     "outputs": [],
     "prompt_number": 24
    },
    {
     "cell_type": "markdown",
     "metadata": {},
     "source": [
      "The [SimRes class](http://kdavies4.github.io/ModelicaRes/simres.html#modelicares.simres.SimRes) has additional methods besides those demonstrated here.  See the [documentation](http://kdavies4.github.io/ModelicaRes/simres.html#modelicares.simres.SimRes) for a full list."
     ]
    },
    {
     "cell_type": "heading",
     "level": 2,
     "metadata": {},
     "source": [
      "Analysis of the linearization results"
     ]
    },
    {
     "cell_type": "markdown",
     "metadata": {},
     "source": [
      "Likewise, we can explore the linearization result and create diagrams using the\n",
      "methods in [LinRes](http://kdavies4.github.io/ModelicaRes/linres.html#modelicares.linres.LinRes).  An instance of [LinRes](http://kdavies4.github.io/ModelicaRes/linres.html#modelicares.linres.LinRes) has a `sys` attribute, which is an instance of the [StateSpace class](http://python-control.sourceforge.net/manual/class_strings.html#module-statesp) from the [control](https://pypi.python.org/pypi/control) package.  The state names are available in `sys.stateName`:"
     ]
    },
    {
     "cell_type": "code",
     "collapsed": false,
     "input": [
      "lin.sys.stateName"
     ],
     "language": "python",
     "metadata": {},
     "outputs": [
      {
       "metadata": {},
       "output_type": "pyout",
       "prompt_number": 17,
       "text": [
        "['I.y', 'D.x']"
       ]
      }
     ],
     "prompt_number": 17
    },
    {
     "cell_type": "markdown",
     "metadata": {},
     "source": [
      "The input and output names are also available:"
     ]
    },
    {
     "cell_type": "code",
     "collapsed": false,
     "input": [
      "lin.sys.inputName"
     ],
     "language": "python",
     "metadata": {},
     "outputs": [
      {
       "metadata": {},
       "output_type": "pyout",
       "prompt_number": 18,
       "text": [
        "['u']"
       ]
      }
     ],
     "prompt_number": 18
    },
    {
     "cell_type": "code",
     "collapsed": false,
     "input": [
      "lin.sys.outputName"
     ],
     "language": "python",
     "metadata": {},
     "outputs": [
      {
       "metadata": {},
       "output_type": "pyout",
       "prompt_number": 19,
       "text": [
        "['y']"
       ]
      }
     ],
     "prompt_number": 19
    },
    {
     "cell_type": "markdown",
     "metadata": {},
     "source": [
      "The system matrixes are available in `sys.A`, `sys.B`, `sys.C`, and `sys.D`, e.g.,"
     ]
    },
    {
     "cell_type": "code",
     "collapsed": false,
     "input": [
      "lin.sys.A"
     ],
     "language": "python",
     "metadata": {},
     "outputs": [
      {
       "metadata": {},
       "output_type": "pyout",
       "prompt_number": 20,
       "text": [
        "matrix([[   0.,    0.],\n",
        "        [   0., -100.]])"
       ]
      }
     ],
     "prompt_number": 20
    },
    {
     "cell_type": "markdown",
     "metadata": {},
     "source": [
      "We can create a [Bode plot](http://en.wikipedia.org/wiki/Bode_plot) using [bode](http://kdavies4.github.io/ModelicaRes/linres.html#modelicares.linres.LinRes.bode)():"
     ]
    },
    {
     "cell_type": "code",
     "collapsed": false,
     "input": [
      "lin.bode()\n",
      "show()"
     ],
     "language": "python",
     "metadata": {},
     "outputs": [
      {
       "metadata": {},
       "output_type": "display_data",
       "png": "[encoded data removed]",
       "text": [
        "<matplotlib.figure.Figure at 0x7f6491123110>"
       ]
      }
     ],
     "prompt_number": 21
    },
    {
     "cell_type": "markdown",
     "metadata": {},
     "source": [
      "[Nyquist plots](http://en.wikipedia.org/wiki/Nyquist_plot) are also available using [nyquist](http://kdavies4.github.io/ModelicaRes/linres.html#modelicares.linres.LinRes.nyquist)()."
     ]
    }
   ],
   "metadata": {}
  }
 ]
}