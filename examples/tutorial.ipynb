{
 "metadata": {
  "name": ""
 },
 "nbformat": 3,
 "nbformat_minor": 0,
 "worksheets": [
  {
   "cells": [
    {
     "cell_type": "heading",
     "level": 1,
     "metadata": {},
     "source": [
      "ModelicaRes Tutorial"
     ]
    },
    {
     "cell_type": "markdown",
     "metadata": {},
     "source": [
      "This tutorial shows how to use [ModelicaRes](http://kdavies4.github.io/ModelicaRes) to load [Modelica](https://www.modelica.org/) simulation and linearization results, retrieve information, and create plots."
     ]
    },
    {
     "cell_type": "heading",
     "level": 2,
     "metadata": {},
     "source": [
      "Set up"
     ]
    },
    {
     "cell_type": "markdown",
     "metadata": {},
     "source": [
      "First, we'll load simulation results of [Modelica.Electrical.Analog.Examples.ChuaCircuit](http://reference.wolfram.com/system-modeler/libraries/Modelica/Modelica_Electrical_Analog_Examples_ChuaCircuit.html) and linearization results of [Modelica.Blocks.Continuous.PID](http://reference.wolfram.com/system-modeler/libraries/Modelica/Modelica_Blocks_Continuous_PID.html)."
     ]
    },
    {
     "cell_type": "code",
     "collapsed": false,
     "input": [
      "from modelicares import SimRes, LinRes\n",
      "\n",
      "sim = SimRes('ChuaCircuit')\n",
      "lin = LinRes('PID')"
     ],
     "language": "python",
     "metadata": {},
     "outputs": [],
     "prompt_number": 1
    },
    {
     "cell_type": "markdown",
     "metadata": {},
     "source": [
      "Before continuing, we'll establish some settings for this IPython notebook."
     ]
    },
    {
     "cell_type": "code",
     "collapsed": false,
     "input": [
      "%matplotlib inline\n",
      "%precision 4\n",
      "import pandas; pandas.set_option('display.max_rows', 5)"
     ],
     "language": "python",
     "metadata": {},
     "outputs": [],
     "prompt_number": 2
    },
    {
     "cell_type": "heading",
     "level": 2,
     "metadata": {},
     "source": [
      "Analyzing the simulation results"
     ]
    },
    {
     "cell_type": "markdown",
     "metadata": {},
     "source": [
      "Now we'll explore the simulation results using the methods in\n",
      "[SimRes](http://kdavies4.github.io/ModelicaRes/simres.html#modelicares.simres.SimRes).  To get the start and stop times of the simulation, we can look up the initial and final values of time:"
     ]
    },
    {
     "cell_type": "code",
     "collapsed": false,
     "input": [
      "sim['Time'].IV()"
     ],
     "language": "python",
     "metadata": {},
     "outputs": [
      {
       "metadata": {},
       "output_type": "pyout",
       "prompt_number": 3,
       "text": [
        "0.0"
       ]
      }
     ],
     "prompt_number": 3
    },
    {
     "cell_type": "code",
     "collapsed": false,
     "input": [
      "sim['Time'].FV()"
     ],
     "language": "python",
     "metadata": {},
     "outputs": [
      {
       "metadata": {},
       "output_type": "pyout",
       "prompt_number": 4,
       "text": [
        "2500.0"
       ]
      }
     ],
     "prompt_number": 4
    },
    {
     "cell_type": "markdown",
     "metadata": {},
     "source": [
      "There are other many other methods.  For example,"
     ]
    },
    {
     "cell_type": "code",
     "collapsed": false,
     "input": [
      "Li = sim['L.i']\n",
      "dict(description=Li.description,\n",
      "     maximum=Li.max(), \n",
      "     mean=Li.mean(), \n",
      "     minimum=Li.min(),\n",
      "     rms=Li.RMS(), \n",
      "     unit=Li.unit)"
     ],
     "language": "python",
     "metadata": {},
     "outputs": [
      {
       "metadata": {},
       "output_type": "pyout",
       "prompt_number": 5,
       "text": [
        "{'description': 'Current flowing from pin p to pin n',\n",
        " 'maximum': 3.9185011,\n",
        " 'mean': 0.43196017,\n",
        " 'minimum': -3.3101323,\n",
        " 'rms': 1.699348,\n",
        " 'unit': 'A'}"
       ]
      }
     ],
     "prompt_number": 5
    },
    {
     "cell_type": "markdown",
     "metadata": {},
     "source": [
      "Notice that the description and unit are not accessed via methods, but as attributes.  To retrieve the values of a variable, use [values](http://kdavies4.github.io/ModelicaRes/simres.html#modelicares.simres.SimRes.__getitem__)():"
     ]
    },
    {
     "cell_type": "code",
     "collapsed": false,
     "input": [
      "sim['L.v'].values(t=(0,20))"
     ],
     "language": "python",
     "metadata": {},
     "outputs": [
      {
       "metadata": {},
       "output_type": "pyout",
       "prompt_number": 6,
       "text": [
        "array([ 0.    ,  0.1092,  0.2108,  0.3046,  0.3904], dtype=float32)"
       ]
      }
     ],
     "prompt_number": 6
    },
    {
     "cell_type": "markdown",
     "metadata": {},
     "source": [
      "Here we've only included the first 20 seconds, but all values are returned by default.  To return an array with columns for times and values, use \n",
      "[array](http://kdavies4.github.io/ModelicaRes/simres.html#modelicares.simres.SimRes.__getitem__)():"
     ]
    },
    {
     "cell_type": "code",
     "collapsed": false,
     "input": [
      "sim['L.v'].array(t=(0,20))"
     ],
     "language": "python",
     "metadata": {},
     "outputs": [
      {
       "metadata": {},
       "output_type": "pyout",
       "prompt_number": 7,
       "text": [
        "array([[  0.    ,   0.    ],\n",
        "       [  5.    ,   0.1092],\n",
        "       [ 10.    ,   0.2108],\n",
        "       [ 15.    ,   0.3046],\n",
        "       [ 20.    ,   0.3904]], dtype=float32)"
       ]
      }
     ],
     "prompt_number": 7
    },
    {
     "cell_type": "markdown",
     "metadata": {},
     "source": [
      "These values have been extracted directly, but it's also possible to interpolate:"
     ]
    },
    {
     "cell_type": "code",
     "collapsed": false,
     "input": [
      "sim['L.v'].array(t=[2.5, 7.5, 12.5, 17.5])"
     ],
     "language": "python",
     "metadata": {},
     "outputs": [
      {
       "metadata": {},
       "output_type": "pyout",
       "prompt_number": 8,
       "text": [
        "array([[  2.5   ,   0.0546],\n",
        "       [  7.5   ,   0.16  ],\n",
        "       [ 12.5   ,   0.2577],\n",
        "       [ 17.5   ,   0.3475]])"
       ]
      }
     ],
     "prompt_number": 8
    },
    {
     "cell_type": "markdown",
     "metadata": {},
     "source": [
      "or to return only every *n*th sample (here, *n* = 100): "
     ]
    },
    {
     "cell_type": "code",
     "collapsed": false,
     "input": [
      "sim['L.v'].array(t=(None,None,100))"
     ],
     "language": "python",
     "metadata": {},
     "outputs": [
      {
       "metadata": {},
       "output_type": "pyout",
       "prompt_number": 9,
       "text": [
        "array([[  0.0000e+00,   0.0000e+00],\n",
        "       [  4.8000e+02,   2.3431e-01],\n",
        "       [  9.6000e+02,  -5.2274e-01],\n",
        "       [  1.4400e+03,   1.2706e-01],\n",
        "       [  1.9400e+03,  -1.3850e-01],\n",
        "       [  2.4400e+03,   1.3846e-01]], dtype=float32)"
       ]
      }
     ],
     "prompt_number": 9
    },
    {
     "cell_type": "markdown",
     "metadata": {},
     "source": [
      "We can perform calculations on the values while retrieving them.  For example, to calculate the rate of heat generated by the resistor `Ro` in the [ChuaCircuit](http://reference.wolfram.com/system-modeler/libraries/Modelica/Modelica_Electrical_Analog_Examples_ChuaCircuit.html) at 100 s:"
     ]
    },
    {
     "cell_type": "code",
     "collapsed": false,
     "input": [
      "R = sim['Ro.R'].IV()\n",
      "square = lambda x: x**2\n",
      "isquared = sim['Ro.i'].values(f=square, t=100)\n",
      "isquared*R"
     ],
     "language": "python",
     "metadata": {},
     "outputs": [
      {
       "metadata": {},
       "output_type": "pyout",
       "prompt_number": 10,
       "text": [
        "0.1294"
       ]
      }
     ],
     "prompt_number": 10
    },
    {
     "cell_type": "markdown",
     "metadata": {},
     "source": [
      "This matches the value recorded in the simulation:"
     ]
    },
    {
     "cell_type": "code",
     "collapsed": false,
     "input": [
      "sim['Ro.LossPower'].values(t=100)"
     ],
     "language": "python",
     "metadata": {},
     "outputs": [
      {
       "metadata": {},
       "output_type": "pyout",
       "prompt_number": 11,
       "text": [
        "0.1294"
       ]
      }
     ],
     "prompt_number": 11
    },
    {
     "cell_type": "markdown",
     "metadata": {},
     "source": [
      "To check if a variable is included in the results, we can use Python's [in](https://docs.python.org/2/library/operator.html#operator.__contains__) operator."
     ]
    },
    {
     "cell_type": "code",
     "collapsed": false,
     "input": [
      "'L.v' in sim"
     ],
     "language": "python",
     "metadata": {},
     "outputs": [
      {
       "metadata": {},
       "output_type": "pyout",
       "prompt_number": 12,
       "text": [
        "True"
       ]
      }
     ],
     "prompt_number": 12
    },
    {
     "cell_type": "markdown",
     "metadata": {},
     "source": [
      "To see how many variables are in a simulation, use Python's\n",
      "[len](https://docs.python.org/2/library/functions.html#len)() function:"
     ]
    },
    {
     "cell_type": "code",
     "collapsed": false,
     "input": [
      "len(sim)"
     ],
     "language": "python",
     "metadata": {},
     "outputs": [
      {
       "metadata": {},
       "output_type": "pyout",
       "prompt_number": 13,
       "text": [
        "62"
       ]
      }
     ],
     "prompt_number": 13
    },
    {
     "cell_type": "markdown",
     "metadata": {},
     "source": [
      "To search for variable names, use [names](http://kdavies4.github.io/ModelicaRes/simres.html#modelicares.simres.SimRes.names)() with wildcards:"
     ]
    },
    {
     "cell_type": "code",
     "collapsed": false,
     "input": [
      "sim.names('L*v')"
     ],
     "language": "python",
     "metadata": {},
     "outputs": [
      {
       "metadata": {},
       "output_type": "pyout",
       "prompt_number": 14,
       "text": [
        "['L.p.v', 'L.v', 'L.n.v']"
       ]
      }
     ],
     "prompt_number": 14
    },
    {
     "cell_type": "markdown",
     "metadata": {},
     "source": [
      "Regular expressions can also be used:"
     ]
    },
    {
     "cell_type": "code",
     "collapsed": false,
     "input": [
      "voltages = sim.names('^[^.]*.v$', re=True)\n",
      "voltages"
     ],
     "language": "python",
     "metadata": {},
     "outputs": [
      {
       "metadata": {},
       "output_type": "pyout",
       "prompt_number": 15,
       "text": [
        "['G.v', 'L.v', 'C2.v', 'Nr.v', 'Ro.v', 'C1.v']"
       ]
      }
     ],
     "prompt_number": 15
    },
    {
     "cell_type": "markdown",
     "metadata": {},
     "source": [
      "We can access information about all these variables at once:"
     ]
    },
    {
     "cell_type": "code",
     "collapsed": false,
     "input": [
      "sim(voltages).IV() "
     ],
     "language": "python",
     "metadata": {},
     "outputs": [
      {
       "metadata": {},
       "output_type": "pyout",
       "prompt_number": 16,
       "text": [
        "[-4.0, 0.0, 0.0, 4.0, 0.0, 4.0]"
       ]
      }
     ],
     "prompt_number": 16
    },
    {
     "cell_type": "markdown",
     "metadata": {},
     "source": [
      "Notice that we used parentheses; `sim[]` only accepts one variable and would have produced an error."
     ]
    },
    {
     "cell_type": "markdown",
     "metadata": {},
     "source": [
      "We can plot these voltages using [plot](http://kdavies4.github.io/ModelicaRes/simres.html#modelicares.simres.SimRes.plot)():"
     ]
    },
    {
     "cell_type": "code",
     "collapsed": false,
     "input": [
      "sim.plot(voltages)"
     ],
     "language": "python",
     "metadata": {},
     "outputs": [
      {
       "ename": "AttributeError",
       "evalue": "'SimRes' object has no attribute 'get_unit'",
       "output_type": "pyerr",
       "traceback": [
        "\u001b[0;31m---------------------------------------------------------------------------\u001b[0m\n\u001b[0;31mAttributeError\u001b[0m                            Traceback (most recent call last)",
        "\u001b[0;32m<ipython-input-17-320ca9fd1fc2>\u001b[0m in \u001b[0;36m<module>\u001b[0;34m()\u001b[0m\n\u001b[0;32m----> 1\u001b[0;31m \u001b[0msim\u001b[0m\u001b[0;34m.\u001b[0m\u001b[0mplot\u001b[0m\u001b[0;34m(\u001b[0m\u001b[0mvoltages\u001b[0m\u001b[0;34m)\u001b[0m\u001b[0;34m\u001b[0m\u001b[0m\n\u001b[0m",
        "\u001b[0;32m/usr/local/lib/python2.7/dist-packages/modelicares/simres.pyc\u001b[0m in \u001b[0;36mplot\u001b[0;34m(self, ynames1, ylabel1, legends1, leg1_kwargs, ax1, ynames2, ylabel2, legends2, leg2_kwargs, ax2, xname, xlabel, title, label, incl_prefix, suffix, use_paren, **kwargs)\u001b[0m\n\u001b[1;32m   1224\u001b[0m             \u001b[0;31m# \"Time in\", which isn't good.\u001b[0m\u001b[0;34m\u001b[0m\u001b[0;34m\u001b[0m\u001b[0m\n\u001b[1;32m   1225\u001b[0m         \u001b[0;32mif\u001b[0m \u001b[0mxlabel\u001b[0m \u001b[0;34m!=\u001b[0m \u001b[0;34m\"\"\u001b[0m\u001b[0;34m:\u001b[0m\u001b[0;34m\u001b[0m\u001b[0m\n\u001b[0;32m-> 1226\u001b[0;31m             \u001b[0mxlabel\u001b[0m \u001b[0;34m=\u001b[0m \u001b[0mnumber_str\u001b[0m\u001b[0;34m(\u001b[0m\u001b[0mxlabel\u001b[0m\u001b[0;34m,\u001b[0m \u001b[0mself\u001b[0m\u001b[0;34m.\u001b[0m\u001b[0mget_unit\u001b[0m\u001b[0;34m(\u001b[0m\u001b[0mxname\u001b[0m\u001b[0;34m)\u001b[0m\u001b[0;34m)\u001b[0m\u001b[0;34m\u001b[0m\u001b[0m\n\u001b[0m\u001b[1;32m   1227\u001b[0m \u001b[0;34m\u001b[0m\u001b[0m\n\u001b[1;32m   1228\u001b[0m         \u001b[0;31m# Generate the y-axis labels and sets of legend entries.\u001b[0m\u001b[0;34m\u001b[0m\u001b[0;34m\u001b[0m\u001b[0m\n",
        "\u001b[0;31mAttributeError\u001b[0m: 'SimRes' object has no attribute 'get_unit'"
       ]
      },
      {
       "metadata": {},
       "output_type": "display_data",
       "png": "[encoded data removed]",
       "text": [
        "<matplotlib.figure.Figure at 0x7f0a31f5b110>"
       ]
      }
     ],
     "prompt_number": 17
    },
    {
     "cell_type": "markdown",
     "metadata": {},
     "source": [
      "The title and labels were generated automatically, but they can be customized using other [plot](http://kdavies4.github.io/ModelicaRes/simres.html#modelicares.simres.SimRes.plot) arguments or functions from [matplotlib.pyplot](http://matplotlib.org/api/pyplot_api.html#module-matplotlib.pyplot)."
     ]
    },
    {
     "cell_type": "markdown",
     "metadata": {},
     "source": [
      "We can create a [pandas data frame](http://pandas.pydata.org/pandas-docs/stable/generated/pandas.DataFrame.html?highlight=dataframe#pandas.DataFrame) of selected data:"
     ]
    },
    {
     "cell_type": "code",
     "collapsed": false,
     "input": [
      "sim.to_pandas(voltages)"
     ],
     "language": "python",
     "metadata": {},
     "outputs": []
    },
    {
     "cell_type": "markdown",
     "metadata": {},
     "source": [
      "The data frame has methods to export the results as [comma-separated values (CSV)](http://en.wikipedia.org/wiki/Comma-separated_values) and other formats."
     ]
    },
    {
     "cell_type": "heading",
     "level": 2,
     "metadata": {},
     "source": [
      "Analyzing the linearization results"
     ]
    },
    {
     "cell_type": "markdown",
     "metadata": {},
     "source": [
      "Likewise, we can explore the linearization result and create diagrams using the\n",
      "methods in [LinRes](http://kdavies4.github.io/ModelicaRes/linres.html#modelicares.linres.LinRes).  An instance of [LinRes](http://kdavies4.github.io/ModelicaRes/linres.html#modelicares.linres.LinRes) has a `sys` attribute, which is an instance of the [StateSpace class](http://python-control.sourceforge.net/manual/class_strings.html#module-statesp) from the [control](https://pypi.python.org/pypi/control) package.  The state names are available in `sys.state_names`:"
     ]
    },
    {
     "cell_type": "code",
     "collapsed": false,
     "input": [
      "lin.sys.state_names"
     ],
     "language": "python",
     "metadata": {},
     "outputs": []
    },
    {
     "cell_type": "markdown",
     "metadata": {},
     "source": [
      "The input and output names are also available:"
     ]
    },
    {
     "cell_type": "code",
     "collapsed": false,
     "input": [
      "lin.sys.input_names"
     ],
     "language": "python",
     "metadata": {},
     "outputs": []
    },
    {
     "cell_type": "code",
     "collapsed": false,
     "input": [
      "lin.sys.output_names"
     ],
     "language": "python",
     "metadata": {},
     "outputs": []
    },
    {
     "cell_type": "markdown",
     "metadata": {},
     "source": [
      "The system matrixes are available in `sys.A`, `sys.B`, `sys.C`, and `sys.D`, e.g.,"
     ]
    },
    {
     "cell_type": "code",
     "collapsed": false,
     "input": [
      "lin.sys.A"
     ],
     "language": "python",
     "metadata": {},
     "outputs": []
    },
    {
     "cell_type": "markdown",
     "metadata": {},
     "source": [
      "We can create a [Bode plot](http://en.wikipedia.org/wiki/Bode_plot) using [bode](http://kdavies4.github.io/ModelicaRes/linres.html#modelicares.linres.LinRes.bode)():"
     ]
    },
    {
     "cell_type": "code",
     "collapsed": false,
     "input": [
      "from numpy import pi, logspace\n",
      "lin.bode(omega=2*pi*logspace(-2, 3))"
     ],
     "language": "python",
     "metadata": {},
     "outputs": []
    },
    {
     "cell_type": "markdown",
     "metadata": {},
     "source": [
      "[Nyquist plots](http://en.wikipedia.org/wiki/Nyquist_plot) are available via [nyquist](http://kdavies4.github.io/ModelicaRes/linres.html#modelicares.linres.LinRes.nyquist)():"
     ]
    },
    {
     "cell_type": "code",
     "collapsed": false,
     "input": [
      "lin.nyquist(omega=2*pi*logspace(0, 3, 61), labelFreq=20)"
     ],
     "language": "python",
     "metadata": {},
     "outputs": []
    }
   ],
   "metadata": {}
  }
 ]
}