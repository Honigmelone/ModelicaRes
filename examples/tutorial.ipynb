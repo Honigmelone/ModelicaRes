{
 "metadata": {
  "name": ""
 },
 "nbformat": 3,
 "nbformat_minor": 0,
 "worksheets": [
  {
   "cells": [
    {
     "cell_type": "heading",
     "level": 1,
     "metadata": {},
     "source": [
      "ModelicaRes Tutorial"
     ]
    },
    {
     "cell_type": "markdown",
     "metadata": {},
     "source": [
      "This tutorial shows how to use [ModelicaRes](http://kdavies4.github.io/ModelicaRes) to run [Modelica](https://www.modelica.org/) model experiments and analyze the results."
     ]
    },
    {
     "cell_type": "markdown",
     "metadata": {},
     "source": [
      "**Table of contents:**\n",
      "- [Running model experiments](#Running-model-experiments)\n",
      "- [Analyzing results](#Analyzing-results)\n",
      "  - [Simulation results](#Simulation-results)\n",
      "  - [Linearization results](#Linearization-results)\n",
      "  - [Groups of results](#Groups-of-results)\n",
      "    - [Simulations](#Simulations)\n",
      "    - [Linearizations](#Linearizations)\n",
      "- [Further information](#Further-information)"
     ]
    },
    {
     "cell_type": "markdown",
     "metadata": {},
     "source": [
      "Before we get started, we'll load some standard modules and establish settings for this IPython notebook."
     ]
    },
    {
     "cell_type": "code",
     "collapsed": false,
     "input": [
      "import numpy as np\n",
      "import matplotlib.pyplot as plt \n",
      "import pandas; pandas.set_option('display.max_rows', 5)\n",
      "%matplotlib inline\n",
      "%precision 4"
     ],
     "language": "python",
     "metadata": {},
     "outputs": [
      {
       "metadata": {},
       "output_type": "pyout",
       "prompt_number": 1,
       "text": [
        "u'%.4f'"
       ]
      }
     ],
     "prompt_number": 1
    },
    {
     "cell_type": "heading",
     "level": 2,
     "metadata": {},
     "source": [
      "Running model experiments"
     ]
    },
    {
     "cell_type": "markdown",
     "metadata": {},
     "source": [
      "[ModelicaRes](http://kdavies4.github.io/ModelicaRes) can help run sets of model simulations or linearizations.  The usage is based on special context managers called [simulators](http://kdavies4.github.io/ModelicaRes/modelicares.exps.simulators.html).  For example, to run a dymosim executable model several times with different settings:"
     ]
    },
    {
     "cell_type": "code",
     "collapsed": false,
     "input": [
      "from modelicares.exps.simulators import dymosim\n",
      "\n",
      "model = \"ChuaCircuit/dymosim\"\n",
      "with dymosim(results_dir='ChuaCircuit', StopTime=2500) as simulator:\n",
      "    simulator.run(model, {'L.L': 15})\n",
      "    simulator.run(model, {'L.L': 18})\n",
      "    simulator.run(model, {'L.L': 21})"
     ],
     "language": "python",
     "metadata": {},
     "outputs": [],
     "prompt_number": 2
    },
    {
     "cell_type": "markdown",
     "metadata": {},
     "source": [
      "This simulates the model three times with the desired parameters and places the results in three subfolders.  Each folder contains an initialization file, a final values file, full results (\\*.mat), and a log file.  In the base folder there is a tab-separated values file (runs.tsv) with a summary of the simulations. "
     ]
    },
    {
     "cell_type": "markdown",
     "metadata": {},
     "source": [
      "Currently, two other simulators are available: [dymola_script](http://kdavies4.github.io/ModelicaRes/modelicares.exps.simulators.html#modelicares.exps.simulators.dymola_script) to write a Dymola-formatted simulation script (\\*.mos) to perform the same actions as above and [fmi](http://kdavies4.github.io/ModelicaRes/modelicares.exps.simulators.html#modelicares.exps.simulators.fmi) to run FMUs in a similar manner via [PyFMI](http://www.pyfmi.org).  With the [dymosim](http://kdavies4.github.io/ModelicaRes/modelicares.exps.simulators.html#modelicares.exps.simulators.dymosim) and [fmi](http://kdavies4.github.io/ModelicaRes/modelicares.exps.simulators.html#modelicares.exps.simulators.fmi) simulators, one can continue a previous simulation by using `continue_run()` instead of `run()`. "
     ]
    },
    {
     "cell_type": "markdown",
     "metadata": {},
     "source": [
      "In order to easily build a large set of simulations with varying parameters, we can use the design of experiments module ([doe](http://kdavies4.github.io/ModelicaRes/modelicares.exps.doe.html)).  For example, to run a full-factorial study:"
     ]
    },
    {
     "cell_type": "code",
     "collapsed": false,
     "input": [
      "from modelicares import doe\n",
      "\n",
      "with dymosim(results_dir='ChuaCircuit', StopTime=2500) as simulator:\n",
      "    for params in doe.fullfact({'C1.C': [8, 10], 'L.L': [18, 20]}):\n",
      "        simulator.run(model, params)"
     ],
     "language": "python",
     "metadata": {},
     "outputs": [],
     "prompt_number": 3
    },
    {
     "cell_type": "markdown",
     "metadata": {},
     "source": [
      "This runs the model four times and places the results in four subfolders.  In the \"Initial values & parameters\" column of the summary file (runs.tsv) we see:\n",
      "- C1(C=8), L(L=18)\n",
      "- C1(C=10), L(L=18)\n",
      "- C1(C=8), L(L=20)\n",
      "- C1(C=10), L(L=20)"
     ]
    },
    {
     "cell_type": "heading",
     "level": 2,
     "metadata": {},
     "source": [
      "Analyzing results"
     ]
    },
    {
     "cell_type": "heading",
     "level": 3,
     "metadata": {},
     "source": [
      "Simulation results"
     ]
    },
    {
     "cell_type": "markdown",
     "metadata": {},
     "source": [
      "First, we'll load a simulation result of [Modelica.Electrical.Analog.Examples.ChuaCircuit](http://reference.wolfram.com/system-modeler/libraries/Modelica/Modelica_Electrical_Analog_Examples_ChuaCircuit.html):"
     ]
    },
    {
     "cell_type": "code",
     "collapsed": false,
     "input": [
      "from modelicares import SimRes\n",
      "sim = SimRes('ChuaCircuit.mat')"
     ],
     "language": "python",
     "metadata": {},
     "outputs": [],
     "prompt_number": 4
    },
    {
     "cell_type": "markdown",
     "metadata": {},
     "source": [
      "Now we'll explore the simulation results using the methods in\n",
      "[SimRes](http://kdavies4.github.io/ModelicaRes/modelicares.simres.html#modelicares.simres.SimRes).  To get the start and stop times of the simulation, we can look up the initial and final values of time:"
     ]
    },
    {
     "cell_type": "code",
     "collapsed": false,
     "input": [
      "sim['Time'].IV"
     ],
     "language": "python",
     "metadata": {},
     "outputs": [
      {
       "metadata": {},
       "output_type": "pyout",
       "prompt_number": 5,
       "text": [
        "0.0"
       ]
      }
     ],
     "prompt_number": 5
    },
    {
     "cell_type": "code",
     "collapsed": false,
     "input": [
      "sim['Time'].FV"
     ],
     "language": "python",
     "metadata": {},
     "outputs": [
      {
       "metadata": {},
       "output_type": "pyout",
       "prompt_number": 6,
       "text": [
        "2500.0"
       ]
      }
     ],
     "prompt_number": 6
    },
    {
     "cell_type": "markdown",
     "metadata": {},
     "source": [
      "There are other many other methods.  For example,"
     ]
    },
    {
     "cell_type": "code",
     "collapsed": false,
     "input": [
      "Li = sim['L.i']\n",
      "dict(description=Li.description,\n",
      "     maximum=Li.max, \n",
      "     mean=Li.mean, \n",
      "     minimum=Li.min,\n",
      "     rms=Li.RMS, \n",
      "     unit=Li.displayUnit)"
     ],
     "language": "python",
     "metadata": {},
     "outputs": [
      {
       "metadata": {},
       "output_type": "pyout",
       "prompt_number": 7,
       "text": [
        "{'description': '',\n",
        " 'maximum': 3.9185011,\n",
        " 'mean': 0.43196017,\n",
        " 'minimum': -3.3101323,\n",
        " 'rms': 1.699348,\n",
        " 'unit': 'A'}"
       ]
      }
     ],
     "prompt_number": 7
    },
    {
     "cell_type": "markdown",
     "metadata": {},
     "source": [
      "Notice, however, that `description` and `unit` are not methods but fields.  To retrieve the values of a variable, use [values](http://kdavies4.github.io/ModelicaRes/modelicares.simres.html#modelicares.simres.SimRes.__getitem__)():"
     ]
    },
    {
     "cell_type": "code",
     "collapsed": false,
     "input": [
      "sim['L.v'].values(t=(0,20))"
     ],
     "language": "python",
     "metadata": {},
     "outputs": [
      {
       "metadata": {},
       "output_type": "pyout",
       "prompt_number": 8,
       "text": [
        "array([ 0.    ,  0.1092,  0.2108,  0.3046,  0.3904], dtype=float32)"
       ]
      }
     ],
     "prompt_number": 8
    },
    {
     "cell_type": "markdown",
     "metadata": {},
     "source": [
      "Here we've only included the first 20 seconds, but all of the values are returned by default.  To return an array with columns for times and values, use \n",
      "[array](http://kdavies4.github.io/ModelicaRes/modelicares.simres.html#modelicares.simres.SimRes.__getitem__)():"
     ]
    },
    {
     "cell_type": "code",
     "collapsed": false,
     "input": [
      "sim['L.v'].array(t=(0,20))"
     ],
     "language": "python",
     "metadata": {},
     "outputs": [
      {
       "metadata": {},
       "output_type": "pyout",
       "prompt_number": 9,
       "text": [
        "array([[  0.    ,   0.    ],\n",
        "       [  5.    ,   0.1092],\n",
        "       [ 10.    ,   0.2108],\n",
        "       [ 15.    ,   0.3046],\n",
        "       [ 20.    ,   0.3904]], dtype=float32)"
       ]
      }
     ],
     "prompt_number": 9
    },
    {
     "cell_type": "markdown",
     "metadata": {},
     "source": [
      "These values have been extracted directly, but it's also possible to interpolate at a specified time:"
     ]
    },
    {
     "cell_type": "code",
     "collapsed": false,
     "input": [
      "sim['L.v'].array(t=2.5)"
     ],
     "language": "python",
     "metadata": {},
     "outputs": [
      {
       "metadata": {},
       "output_type": "pyout",
       "prompt_number": 10,
       "text": [
        "array([ 2.5   ,  0.0546])"
       ]
      }
     ],
     "prompt_number": 10
    },
    {
     "cell_type": "markdown",
     "metadata": {},
     "source": [
      "or at a specified list of times:"
     ]
    },
    {
     "cell_type": "code",
     "collapsed": false,
     "input": [
      "sim['L.v'].array(t=[2.5, 7.5, 12.5, 17.5])"
     ],
     "language": "python",
     "metadata": {},
     "outputs": [
      {
       "metadata": {},
       "output_type": "pyout",
       "prompt_number": 11,
       "text": [
        "array([[  2.5   ,   0.0546],\n",
        "       [  7.5   ,   0.16  ],\n",
        "       [ 12.5   ,   0.2577],\n",
        "       [ 17.5   ,   0.3475]])"
       ]
      }
     ],
     "prompt_number": 11
    },
    {
     "cell_type": "markdown",
     "metadata": {},
     "source": [
      "or to return only every *n*th sample (here, *n* = 100): "
     ]
    },
    {
     "cell_type": "code",
     "collapsed": false,
     "input": [
      "sim['L.v'].array(t=(None, None, 100))"
     ],
     "language": "python",
     "metadata": {},
     "outputs": [
      {
       "metadata": {},
       "output_type": "pyout",
       "prompt_number": 12,
       "text": [
        "array([[  0.0000e+00,   0.0000e+00],\n",
        "       [  4.8000e+02,   2.3431e-01],\n",
        "       [  9.6000e+02,  -5.2274e-01],\n",
        "       [  1.4400e+03,   1.2706e-01],\n",
        "       [  1.9400e+03,  -1.3850e-01],\n",
        "       [  2.4400e+03,   1.3846e-01]], dtype=float32)"
       ]
      }
     ],
     "prompt_number": 12
    },
    {
     "cell_type": "markdown",
     "metadata": {},
     "source": [
      "To check if a variable is included in the results, we can use Python's [in operator](https://docs.python.org/2/library/operator.html#operator.__contains__)."
     ]
    },
    {
     "cell_type": "code",
     "collapsed": false,
     "input": [
      "'L.v' in sim"
     ],
     "language": "python",
     "metadata": {},
     "outputs": [
      {
       "metadata": {},
       "output_type": "pyout",
       "prompt_number": 13,
       "text": [
        "True"
       ]
      }
     ],
     "prompt_number": 13
    },
    {
     "cell_type": "markdown",
     "metadata": {},
     "source": [
      "To see how many variables are in a simulation, use Python's\n",
      "[len](https://docs.python.org/2/library/functions.html#len)() function:"
     ]
    },
    {
     "cell_type": "code",
     "collapsed": false,
     "input": [
      "len(sim)"
     ],
     "language": "python",
     "metadata": {},
     "outputs": [
      {
       "metadata": {},
       "output_type": "pyout",
       "prompt_number": 14,
       "text": [
        "62"
       ]
      }
     ],
     "prompt_number": 14
    },
    {
     "cell_type": "markdown",
     "metadata": {},
     "source": [
      "To search for variable names, use [names](http://kdavies4.github.io/ModelicaRes/modelicares.simres.html#modelicares.simres.SimRes.names)() with wildcards:"
     ]
    },
    {
     "cell_type": "code",
     "collapsed": false,
     "input": [
      "sim.find('L*v')"
     ],
     "language": "python",
     "metadata": {},
     "outputs": [
      {
       "metadata": {},
       "output_type": "pyout",
       "prompt_number": 15,
       "text": [
        "['L.n.v', 'L.p.v', 'L.v']"
       ]
      }
     ],
     "prompt_number": 15
    },
    {
     "cell_type": "markdown",
     "metadata": {},
     "source": [
      "Regular expressions can also be used:"
     ]
    },
    {
     "cell_type": "code",
     "collapsed": false,
     "input": [
      "voltages = sim.find('^[^.]*.v$', re=True)\n",
      "voltages"
     ],
     "language": "python",
     "metadata": {},
     "outputs": [
      {
       "metadata": {},
       "output_type": "pyout",
       "prompt_number": 16,
       "text": [
        "['C1.v', 'C2.v', 'G.v', 'L.v', 'Nr.v', 'Ro.v']"
       ]
      }
     ],
     "prompt_number": 16
    },
    {
     "cell_type": "markdown",
     "metadata": {},
     "source": [
      "We can access information about all these variables at once:"
     ]
    },
    {
     "cell_type": "code",
     "collapsed": false,
     "input": [
      "sim(voltages).IV"
     ],
     "language": "python",
     "metadata": {},
     "outputs": [
      {
       "metadata": {},
       "output_type": "pyout",
       "prompt_number": 17,
       "text": [
        "[4.0, 0.0, -4.0, 0.0, 4.0, 0.0]"
       ]
      }
     ],
     "prompt_number": 17
    },
    {
     "cell_type": "markdown",
     "metadata": {},
     "source": [
      "Notice that we used parentheses; `sim[]` only accepts one variable and would have produced an error."
     ]
    },
    {
     "cell_type": "markdown",
     "metadata": {},
     "source": [
      "We can plot these voltages using [plot](http://kdavies4.github.io/ModelicaRes/modelicares.simres.html#modelicares.simres.SimRes.plot)():"
     ]
    },
    {
     "cell_type": "code",
     "collapsed": false,
     "input": [
      "sim.plot(*voltages);"
     ],
     "language": "python",
     "metadata": {},
     "outputs": [
      {
       "ename": "AttributeError",
       "evalue": "'Variable' object has no attribute 'unit'",
       "output_type": "pyerr",
       "traceback": [
        "\u001b[0;31m---------------------------------------------------------------------------\u001b[0m\n\u001b[0;31mAttributeError\u001b[0m                            Traceback (most recent call last)",
        "\u001b[0;32m<ipython-input-18-d3ba7fb43781>\u001b[0m in \u001b[0;36m<module>\u001b[0;34m()\u001b[0m\n\u001b[0;32m----> 1\u001b[0;31m \u001b[0msim\u001b[0m\u001b[0;34m.\u001b[0m\u001b[0mplot\u001b[0m\u001b[0;34m(\u001b[0m\u001b[0;34m*\u001b[0m\u001b[0mvoltages\u001b[0m\u001b[0;34m)\u001b[0m\u001b[0;34m;\u001b[0m\u001b[0;34m\u001b[0m\u001b[0m\n\u001b[0m",
        "\u001b[0;32m/usr/local/lib/python2.7/dist-packages/ModelicaRes-0.12.2_94_gaf649f8_dirty-py2.7.egg/modelicares/simres.pyc\u001b[0m in \u001b[0;36mplot\u001b[0;34m(self, ynames1, ylabel1, f1, legends1, leg1_kwargs, ax1, ynames2, ylabel2, f2, legends2, leg2_kwargs, ax2, xname, xlabel, title, label, incl_prefix, suffix, use_paren, **kwargs)\u001b[0m\n\u001b[1;32m   1355\u001b[0m             \u001b[0;31m# \"Time in\", which isn't good.\u001b[0m\u001b[0;34m\u001b[0m\u001b[0;34m\u001b[0m\u001b[0m\n\u001b[1;32m   1356\u001b[0m         \u001b[0;32mif\u001b[0m \u001b[0mxlabel\u001b[0m \u001b[0;34m!=\u001b[0m \u001b[0;34m\"\"\u001b[0m\u001b[0;34m:\u001b[0m\u001b[0;34m\u001b[0m\u001b[0m\n\u001b[0;32m-> 1357\u001b[0;31m             \u001b[0mxlabel\u001b[0m \u001b[0;34m=\u001b[0m \u001b[0mnumber_label\u001b[0m\u001b[0;34m(\u001b[0m\u001b[0mxlabel\u001b[0m\u001b[0;34m,\u001b[0m \u001b[0mself\u001b[0m\u001b[0;34m[\u001b[0m\u001b[0mxname\u001b[0m\u001b[0;34m]\u001b[0m\u001b[0;34m.\u001b[0m\u001b[0munit\u001b[0m\u001b[0;34m)\u001b[0m\u001b[0;34m\u001b[0m\u001b[0m\n\u001b[0m\u001b[1;32m   1358\u001b[0m \u001b[0;34m\u001b[0m\u001b[0m\n\u001b[1;32m   1359\u001b[0m         \u001b[0;31m# Generate the y-axis labels and sets of legend entries.\u001b[0m\u001b[0;34m\u001b[0m\u001b[0;34m\u001b[0m\u001b[0m\n",
        "\u001b[0;31mAttributeError\u001b[0m: 'Variable' object has no attribute 'unit'"
       ]
      }
     ],
     "prompt_number": 18
    },
    {
     "cell_type": "markdown",
     "metadata": {},
     "source": [
      "The title, axis labels, and legend entries were generated automatically, but they can be customized using other [plot](http://kdavies4.github.io/ModelicaRes/modelicares.simres.html#modelicares.simres.SimRes.plot) arguments or functions from [matplotlib.pyplot](http://matplotlib.org/api/pyplot_api.html#module-matplotlib.pyplot).  The abscissa can be any variable, not just time.  Here, we use current:"
     ]
    },
    {
     "cell_type": "code",
     "collapsed": false,
     "input": [
      "ax, __ = sim.plot(ynames1='L.v', ylabel1=\"Voltage\", \n",
      "                  xname='L.i',  xlabel=\"Current\",\n",
      "                  title=\"Chua circuit\\n\"\n",
      "                        \"Current through and voltage across the inductor\")\n",
      "\n",
      "# Mark the start and stop points.\n",
      "def mark(time, text):\n",
      "    i = sim['L.i'].values(time)\n",
      "    v = sim['L.v'].values(time)\n",
      "    plt.plot(i, v, 'bo')\n",
      "    ax.annotate(text, xy=(i, v), xytext=(0, -4), ha='center', va='top', \n",
      "                textcoords='offset points')\n",
      "mark(0, \"Start\")\n",
      "mark(2500, \"Stop\")"
     ],
     "language": "python",
     "metadata": {},
     "outputs": []
    },
    {
     "cell_type": "markdown",
     "metadata": {},
     "source": [
      "We can add traces that are a function of other variables in the plot using the *f1* and *f2* [plot](http://kdavies4.github.io/ModelicaRes/modelicares.simres.html#modelicares.simres.SimRes.plot) arguments.  Here, we will plot the absolute value of the voltage:"
     ]
    },
    {
     "cell_type": "code",
     "collapsed": false,
     "input": [
      "ax, __ = sim.plot('L.v', ylabel1=\"Voltage\", \n",
      "                  f1={\"abs(L.v)\": lambda x: np.abs(x[0])},\n",
      "                  title=\"Chua circuit\\nVoltage across the inductor\")\n",
      "\n",
      "# Show the max, mean, and rectified mean.\n",
      "from modelicares import add_hlines\n",
      "Lv = sim['L.v']\n",
      "add_hlines(ax, [Lv.max(), Lv.mean(), Lv.mean_rectified()], \n",
      "               [\"max\", \"mean\", \"rectified mean\"], color='k', linestyle=\":\")"
     ],
     "language": "python",
     "metadata": {},
     "outputs": []
    },
    {
     "cell_type": "markdown",
     "metadata": {},
     "source": [
      "We can create a [pandas data frame](http://pandas.pydata.org/pandas-docs/stable/generated/pandas.DataFrame.html?highlight=dataframe#pandas.DataFrame) of selected data:"
     ]
    },
    {
     "cell_type": "code",
     "collapsed": false,
     "input": [
      "sim.to_pandas(voltages)"
     ],
     "language": "python",
     "metadata": {},
     "outputs": []
    },
    {
     "cell_type": "markdown",
     "metadata": {},
     "source": [
      "The frame has methods to export the results to various formats (e.g., \n",
      "[to_clipboard](http://pandas.pydata.org/pandas-docs/stable/generated/pandas.DataFrame.to_clipboard.html#pandas.DataFrame.to_clipboard), \n",
      "[to_csv](http://pandas.pydata.org/pandas-docs/stable/generated/pandas.DataFrame.to_csv.html#pandas.DataFrame.to_csv), \n",
      "[to_excel](http://pandas.pydata.org/pandas-docs/stable/generated/pandas.DataFrame.to_excel.html#pandas.DataFrame.to_excel),\n",
      "[to_hdf](http://pandas.pydata.org/pandas-docs/stable/generated/pandas.DataFrame.to_hdf.html#pandas.DataFrame.to_hdf),\n",
      "[to_html](http://pandas.pydata.org/pandas-docs/stable/generated/pandas.DataFrame.to_html.html#pandas.DataFrame.to_html), and\n",
      "[to_latex](http://pandas.pydata.org/pandas-docs/stable/generated/pandas.DataFrame.to_latex.html#pandas.DataFrame.to_latex))."
     ]
    },
    {
     "cell_type": "heading",
     "level": 3,
     "metadata": {},
     "source": [
      "Linearization results"
     ]
    },
    {
     "cell_type": "markdown",
     "metadata": {},
     "source": [
      "We'll load a linearization result of [Modelica.Blocks.Continuous.PID](http://reference.wolfram.com/system-modeler/libraries/Modelica/Modelica_Blocks_Continuous_PID.html):"
     ]
    },
    {
     "cell_type": "code",
     "collapsed": false,
     "input": [
      "from modelicares import LinRes\n",
      "lin = LinRes('PID.mat')"
     ],
     "language": "python",
     "metadata": {},
     "outputs": []
    },
    {
     "cell_type": "markdown",
     "metadata": {},
     "source": [
      "We can explore it and create diagrams using the methods in [LinRes](http://kdavies4.github.io/ModelicaRes/modelicares.linres.html#modelicares.linres.LinRes).  An instance of [LinRes](http://kdavies4.github.io/ModelicaRes/modelicares.linres.html#modelicares.linres.LinRes) has a `sys` attribute, which is an instance of the [StateSpace](http://python-control.sourceforge.net/manual/class_strings.html#module-statesp) class from the [control](https://pypi.python.org/pypi/control) package.  The state names are available in `sys.state_names`:"
     ]
    },
    {
     "cell_type": "code",
     "collapsed": false,
     "input": [
      "lin.sys.state_names"
     ],
     "language": "python",
     "metadata": {},
     "outputs": []
    },
    {
     "cell_type": "markdown",
     "metadata": {},
     "source": [
      "The input and output names are also available:"
     ]
    },
    {
     "cell_type": "code",
     "collapsed": false,
     "input": [
      "lin.sys.input_names"
     ],
     "language": "python",
     "metadata": {},
     "outputs": []
    },
    {
     "cell_type": "code",
     "collapsed": false,
     "input": [
      "lin.sys.output_names"
     ],
     "language": "python",
     "metadata": {},
     "outputs": []
    },
    {
     "cell_type": "markdown",
     "metadata": {},
     "source": [
      "The system matrixes are available in `sys.A`, `sys.B`, `sys.C`, and `sys.D`, e.g.,"
     ]
    },
    {
     "cell_type": "code",
     "collapsed": false,
     "input": [
      "lin.sys.A"
     ],
     "language": "python",
     "metadata": {},
     "outputs": []
    },
    {
     "cell_type": "markdown",
     "metadata": {},
     "source": [
      "We can create a [Bode plot](http://en.wikipedia.org/wiki/Bode_plot) using [bode](http://kdavies4.github.io/ModelicaRes/modelicares.linres.html#modelicares.linres.LinRes.bode)():"
     ]
    },
    {
     "cell_type": "code",
     "collapsed": false,
     "input": [
      "lin.bode();"
     ],
     "language": "python",
     "metadata": {},
     "outputs": []
    },
    {
     "cell_type": "markdown",
     "metadata": {},
     "source": [
      "[Nyquist plots](http://en.wikipedia.org/wiki/Nyquist_plot) are available via [nyquist](http://kdavies4.github.io/ModelicaRes/modelicares.linres.html#modelicares.linres.LinRes.nyquist)():"
     ]
    },
    {
     "cell_type": "code",
     "collapsed": false,
     "input": [
      "lin.nyquist(freqs=(0.1, 1000));"
     ],
     "language": "python",
     "metadata": {},
     "outputs": []
    },
    {
     "cell_type": "heading",
     "level": 3,
     "metadata": {},
     "source": [
      "Groups of results"
     ]
    },
    {
     "cell_type": "markdown",
     "metadata": {},
     "source": [
      "We can also use [ModelicaRes](http://kdavies4.github.io/ModelicaRes) to analyze and plot data from multiple simulation and linearization results at once.  First, we'll import some additional classes:"
     ]
    },
    {
     "cell_type": "code",
     "collapsed": false,
     "input": [
      "from modelicares import SimResList, LinResList"
     ],
     "language": "python",
     "metadata": {},
     "outputs": [],
     "prompt_number": 19
    },
    {
     "cell_type": "markdown",
     "metadata": {},
     "source": [
      "[SimResList](http://kdavies4.github.io/ModelicaRes/modelicares.simres.html#modelicares.simres.SimResList) or [LinResList](http://kdavies4.github.io/ModelicaRes/modelicares.linres.html#modelicares.linres.LinResList) are Python lists with additional methods that operate on the contained simulation and linearization results as a group.  Each entry is an instance of [SimRes](http://kdavies4.github.io/ModelicaRes/modelicares.simres.html#modelicares.simres.SimRes) or [LinRes](http://kdavies4.github.io/ModelicaRes/modelicares.linres.html#modelicares.linres.LinRes) (respectively)."
     ]
    },
    {
     "cell_type": "heading",
     "level": 4,
     "metadata": {},
     "source": [
      "Simulations"
     ]
    },
    {
     "cell_type": "markdown",
     "metadata": {},
     "source": [
      "We'll load simulations from several folders:"
     ]
    },
    {
     "cell_type": "code",
     "collapsed": false,
     "input": [
      "sims = SimResList('ChuaCircuit/*.mat', 'ChuaCircuit/*/*.mat')\n",
      "print(sims)"
     ],
     "language": "python",
     "metadata": {},
     "outputs": [
      {
       "ename": "AttributeError",
       "evalue": "'Variable' object has no attribute 'dirname'",
       "output_type": "pyerr",
       "traceback": [
        "\u001b[0;31m---------------------------------------------------------------------------\u001b[0m\n\u001b[0;31mAttributeError\u001b[0m                            Traceback (most recent call last)",
        "\u001b[0;32m<ipython-input-20-dfd802876bf7>\u001b[0m in \u001b[0;36m<module>\u001b[0;34m()\u001b[0m\n\u001b[1;32m      1\u001b[0m \u001b[0msims\u001b[0m \u001b[0;34m=\u001b[0m \u001b[0mSimResList\u001b[0m\u001b[0;34m(\u001b[0m\u001b[0;34m'ChuaCircuit/*.mat'\u001b[0m\u001b[0;34m,\u001b[0m \u001b[0;34m'ChuaCircuit/*/*.mat'\u001b[0m\u001b[0;34m)\u001b[0m\u001b[0;34m\u001b[0m\u001b[0m\n\u001b[0;32m----> 2\u001b[0;31m \u001b[0;32mprint\u001b[0m\u001b[0;34m(\u001b[0m\u001b[0msims\u001b[0m\u001b[0;34m)\u001b[0m\u001b[0;34m\u001b[0m\u001b[0m\n\u001b[0m",
        "\u001b[0;32m/usr/local/lib/python2.7/dist-packages/ModelicaRes-0.12.2_94_gaf649f8_dirty-py2.7.egg/modelicares/simres.pyc\u001b[0m in \u001b[0;36m__str__\u001b[0;34m(self)\u001b[0m\n\u001b[1;32m   2271\u001b[0m             return (\"List of simulation results (SimRes instance) from\\n\"\n\u001b[1;32m   2272\u001b[0m                     + self[0].fname)\n\u001b[0;32m-> 2273\u001b[0;31m         \u001b[0mdirname\u001b[0m \u001b[0;34m=\u001b[0m \u001b[0mself\u001b[0m\u001b[0;34m.\u001b[0m\u001b[0mdirname\u001b[0m\u001b[0;34m\u001b[0m\u001b[0m\n\u001b[0m\u001b[1;32m   2274\u001b[0m         string = (\"List of simulation results (SimRes instances) from the \"\n\u001b[1;32m   2275\u001b[0m                   \"following files\")\n",
        "\u001b[0;32m/usr/local/lib/python2.7/dist-packages/ModelicaRes-0.12.2_94_gaf649f8_dirty-py2.7.egg/modelicares/simres.pyc\u001b[0m in \u001b[0;36m__getattr__\u001b[0;34m(self, attr)\u001b[0m\n\u001b[1;32m   2201\u001b[0m                   for name in names)\n\u001b[1;32m   2202\u001b[0m         \u001b[0;32mtry\u001b[0m\u001b[0;34m:\u001b[0m\u001b[0;34m\u001b[0m\u001b[0m\n\u001b[0;32m-> 2203\u001b[0;31m             \u001b[0;32mreturn\u001b[0m \u001b[0mutil\u001b[0m\u001b[0;34m.\u001b[0m\u001b[0mCallDict\u001b[0m\u001b[0;34m(\u001b[0m\u001b[0mzip\u001b[0m\u001b[0;34m(\u001b[0m\u001b[0mnames\u001b[0m\u001b[0;34m,\u001b[0m \u001b[0mvalues\u001b[0m\u001b[0;34m)\u001b[0m\u001b[0;34m)\u001b[0m\u001b[0;34m\u001b[0m\u001b[0m\n\u001b[0m\u001b[1;32m   2204\u001b[0m         \u001b[0;32mexcept\u001b[0m \u001b[0mValueError\u001b[0m\u001b[0;34m:\u001b[0m\u001b[0;34m\u001b[0m\u001b[0m\n\u001b[1;32m   2205\u001b[0m             \u001b[0;32mif\u001b[0m \u001b[0mattr\u001b[0m \u001b[0;34m==\u001b[0m \u001b[0;34m'value'\u001b[0m\u001b[0;34m:\u001b[0m\u001b[0;34m\u001b[0m\u001b[0m\n",
        "\u001b[0;32m/usr/local/lib/python2.7/dist-packages/ModelicaRes-0.12.2_94_gaf649f8_dirty-py2.7.egg/modelicares/simres.pyc\u001b[0m in \u001b[0;36m<genexpr>\u001b[0;34m((name,))\u001b[0m\n\u001b[1;32m   2199\u001b[0m         \u001b[0mnames\u001b[0m \u001b[0;34m=\u001b[0m \u001b[0mself\u001b[0m\u001b[0;34m.\u001b[0m\u001b[0mnames\u001b[0m\u001b[0;34m\u001b[0m\u001b[0m\n\u001b[1;32m   2200\u001b[0m         values = (util.CallList([getattr(sim[name], attr) for sim in self])\n\u001b[0;32m-> 2201\u001b[0;31m                   for name in names)\n\u001b[0m\u001b[1;32m   2202\u001b[0m         \u001b[0;32mtry\u001b[0m\u001b[0;34m:\u001b[0m\u001b[0;34m\u001b[0m\u001b[0m\n\u001b[1;32m   2203\u001b[0m             \u001b[0;32mreturn\u001b[0m \u001b[0mutil\u001b[0m\u001b[0;34m.\u001b[0m\u001b[0mCallDict\u001b[0m\u001b[0;34m(\u001b[0m\u001b[0mzip\u001b[0m\u001b[0;34m(\u001b[0m\u001b[0mnames\u001b[0m\u001b[0;34m,\u001b[0m \u001b[0mvalues\u001b[0m\u001b[0;34m)\u001b[0m\u001b[0;34m)\u001b[0m\u001b[0;34m\u001b[0m\u001b[0m\n",
        "\u001b[0;31mAttributeError\u001b[0m: 'Variable' object has no attribute 'dirname'"
       ]
      }
     ],
     "prompt_number": 20
    },
    {
     "cell_type": "markdown",
     "metadata": {},
     "source": [
      "We can check which variables have different initial values among the simulations:"
     ]
    },
    {
     "cell_type": "code",
     "collapsed": false,
     "input": [
      "sims.get_unique_IVs()"
     ],
     "language": "python",
     "metadata": {},
     "outputs": []
    },
    {
     "cell_type": "markdown",
     "metadata": {},
     "source": [
      "In this case it's only the inductance.  The order of the simulations is somewhat arbitrary, so let's sort the list by inductance:"
     ]
    },
    {
     "cell_type": "code",
     "collapsed": false,
     "input": [
      "sims.sort(key=lambda sim: sim['L.L'].value)\n",
      "unique_IVs = sims.get_unique_IVs()\n",
      "unique_IVs"
     ],
     "language": "python",
     "metadata": {},
     "outputs": []
    },
    {
     "cell_type": "code",
     "collapsed": false,
     "input": [
      "print(sims)"
     ],
     "language": "python",
     "metadata": {},
     "outputs": []
    },
    {
     "cell_type": "markdown",
     "metadata": {},
     "source": [
      "We can query the list for an attribute of a variable across all of the simulations:"
     ]
    },
    {
     "cell_type": "code",
     "collapsed": false,
     "input": [
      "sims['L.v'].FV"
     ],
     "language": "python",
     "metadata": {},
     "outputs": []
    },
    {
     "cell_type": "markdown",
     "metadata": {},
     "source": [
      "There is a built-in method to plot variables across all of the simulations.  First, we'll label each simulation:"
     ]
    },
    {
     "cell_type": "code",
     "collapsed": false,
     "input": [
      "label = lambda L: 'w/ L.L = {L} {U}'.format(L=L.value, U=L.unit)\n",
      "for sim in sims:    \n",
      "    sim.label = label(sim['L.L'])"
     ],
     "language": "python",
     "metadata": {},
     "outputs": []
    },
    {
     "cell_type": "markdown",
     "metadata": {},
     "source": [
      "Then we'll create the plot:"
     ]
    },
    {
     "cell_type": "code",
     "collapsed": false,
     "input": [
      "sims.plot('L.v', ylabel1='Voltage', title=\"Chua circuit\\nwith varying inductance\");"
     ],
     "language": "python",
     "metadata": {},
     "outputs": []
    },
    {
     "cell_type": "heading",
     "level": 4,
     "metadata": {},
     "source": [
      "Linearizations"
     ]
    },
    {
     "cell_type": "markdown",
     "metadata": {},
     "source": [
      "Similarly, we can load two linearizations:"
     ]
    },
    {
     "cell_type": "code",
     "collapsed": false,
     "input": [
      "lins = LinResList('PID/*.mat', 'PID/*/*.mat')\n",
      "print(lins)"
     ],
     "language": "python",
     "metadata": {},
     "outputs": []
    },
    {
     "cell_type": "markdown",
     "metadata": {},
     "source": [
      "We'd like to label the plots with the differential time constants.  Since this information isn't recorded in the files, we'll load it from the associated *dsin.txt* files and attach a *label* attribute to each linearization:"
     ]
    },
    {
     "cell_type": "code",
     "collapsed": false,
     "input": [
      "from os.path import join\n",
      "from modelicares import read_params\n",
      "for lin in lins:\n",
      "    lin.label = \"Td = %g s\" % read_params('Td', join(lin.dirname, 'dsin.txt'))\n",
      "lins.label"
     ],
     "language": "python",
     "metadata": {},
     "outputs": []
    },
    {
     "cell_type": "markdown",
     "metadata": {},
     "source": [
      "These aren't in order, so we'll sort the list of linearizations:"
     ]
    },
    {
     "cell_type": "code",
     "collapsed": false,
     "input": [
      "lins.sort(key=lambda lin: lin.label)\n",
      "lins.label"
     ],
     "language": "python",
     "metadata": {},
     "outputs": []
    },
    {
     "cell_type": "markdown",
     "metadata": {},
     "source": [
      "Finally, we'll create a [Bode plot](http://en.wikipedia.org/wiki/Bode_plot) of all three linearizations using those labels:"
     ]
    },
    {
     "cell_type": "code",
     "collapsed": false,
     "input": [
      "lins.bode(title=\"Bode plot of PID\\n\"\n",
      "                \"with varying differential time constant\");"
     ],
     "language": "python",
     "metadata": {},
     "outputs": []
    },
    {
     "cell_type": "heading",
     "level": 2,
     "metadata": {},
     "source": [
      "Further information"
     ]
    },
    {
     "cell_type": "markdown",
     "metadata": {},
     "source": [
      "For advanced topics in ModelicaRes, see the the next IPython notebook as a [file](https://github.com/kdavies4/ModelicaRes/blob/master/examples/advanced.ipynb) or a [static page](http://nbviewer.ipython.org/github/kdavies4/ModelicaRes/blob/master/examples/advanced.ipynb).  For full documentation of ModelicaRes, see the [main webpage](http://kdavies4.github.io/ModelicaRes)."
     ]
    }
   ],
   "metadata": {}
  }
 ]
}